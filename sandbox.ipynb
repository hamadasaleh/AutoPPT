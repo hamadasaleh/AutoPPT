{
 "cells": [
  {
   "cell_type": "code",
   "execution_count": 1,
   "metadata": {},
   "outputs": [
    {
     "name": "stdout",
     "output_type": "stream",
     "text": [
      "**Slide 1: Title**\n",
      "- Title: Understanding Climate Change\n",
      "- Subtitle: A Global Challenge and Opportunity\n",
      "\n",
      "**Slide 2: Introduction to Climate Change**\n",
      "- Definition of Climate Change\n",
      "- Causes: Greenhouse gas emissions, deforestation, industrialization\n",
      "\n",
      "**Slide 3: Evidence of Climate Change**\n",
      "- Temperature rise: Historical data and projections\n",
      "- Extreme weather events: Hurricanes, floods, droughts\n",
      "- Melting ice caps and rising sea levels\n",
      "\n",
      "**Slide 4: Impact on Ecosystems**\n",
      "- Loss of biodiversity\n",
      "- Disruption of ecosystems\n",
      "- Threats to wildlife habitats\n",
      "\n",
      "**Slide 5: Effects on Human Health**\n",
      "- Heat-related illnesses\n",
      "- Spread of infectious diseases\n",
      "- Food and water insecurity\n",
      "\n",
      "**Slide 6: Economic Implications**\n",
      "- Costs of adaptation and mitigation\n",
      "- Disruption of industries: Agriculture, tourism, fisheries\n",
      "- Increased healthcare expenses\n",
      "\n",
      "**Slide 7: Social Justice and Equity**\n",
      "- Disproportionate impact on vulnerable communities\n",
      "- Environmental racism\n",
      "- Importance of equitable solutions\n",
      "\n",
      "**Slide 8: Mitigation Strategies**\n",
      "- Transition to renewable energy\n",
      "- Reforestation and afforestation\n",
      "- Sustainable agriculture and land use practices\n",
      "\n",
      "**Slide 9: Adaptation Measures**\n",
      "- Building resilient infrastructure\n",
      "- Implementing early warning systems\n",
      "- Enhancing community preparedness\n",
      "\n",
      "**Slide 10: Call to Action**\n",
      "- Individual actions: Reduce carbon footprint, advocate for policy change\n",
      "- Collective responsibility: International cooperation, Paris Agreement goals\n",
      "- Empowering future generations: Education and awareness campaigns\n",
      "\n",
      "**Slide 11: Conclusion**\n",
      "- Recap of key points\n",
      "- Urgency of action\n",
      "- Hope for a sustainable future\n",
      "\n",
      "**Slide 12: Questions and Discussion**\n",
      "- Open floor for questions and further exploration of topics.\n"
     ]
    }
   ],
   "source": [
    "# Open the file in read mode\n",
    "with open('slides.txt', 'r') as file:\n",
    "    # Read the entire contents of the file\n",
    "    content = file.read()\n",
    "    # Print the content\n",
    "    print(content)\n"
   ]
  },
  {
   "cell_type": "code",
   "execution_count": 4,
   "metadata": {},
   "outputs": [],
   "source": [
    "import json"
   ]
  },
  {
   "cell_type": "code",
   "execution_count": 5,
   "metadata": {},
   "outputs": [],
   "source": [
    "with open(\"slides.json\", 'r') as file:\n",
    "    data = json.load(file)"
   ]
  },
  {
   "cell_type": "code",
   "execution_count": 6,
   "metadata": {},
   "outputs": [
    {
     "data": {
      "text/plain": [
       "{'Understanding Climate Change': 'Climate change is a long-term shift in global or regional climate patterns. It is primarily due to human activities such as burning fossil fuels, deforestation, and industrial processes.',\n",
       " 'Causes of Climate Change': 'The main causes of climate change include greenhouse gas emissions (carbon dioxide, methane, nitrous oxide), deforestation, industrialization, and agricultural practices.',\n",
       " 'Effects of Climate Change': 'Climate change leads to a range of impacts including rising global temperatures, more frequent and severe weather events (such as hurricanes, floods, and droughts), melting ice caps and glaciers, and rising sea levels.',\n",
       " 'Impact on Ecosystems': 'Climate change disrupts ecosystems, leading to loss of biodiversity, habitat destruction, shifts in species distribution, and increased risks of extinction for many plants and animals.',\n",
       " 'Impact on Human Health': 'Climate change poses significant risks to human health, including heat-related illnesses, respiratory problems due to air pollution, increased spread of infectious diseases, and food and water shortages.',\n",
       " 'Economic Implications': 'Climate change has substantial economic costs, including damage to infrastructure, loss of agricultural productivity, increased healthcare expenses, and disruption of industries such as tourism and fishing.',\n",
       " 'Mitigation Strategies': 'Mitigation involves reducing the emissions of greenhouse gases and enhancing carbon sinks. Strategies include transitioning to renewable energy sources, improving energy efficiency, and implementing policies to reduce emissions from transportation and industry.',\n",
       " 'Adaptation Measures': 'Adaptation involves adjusting to the impacts of climate change to minimize harm and build resilience. Measures include improving infrastructure to withstand extreme weather events, implementing early warning systems, and developing drought-resistant crops.',\n",
       " 'Global Cooperation': 'Addressing climate change requires international cooperation and collective action. Initiatives such as the Paris Agreement aim to limit global warming and support vulnerable communities in adapting to climate change.',\n",
       " 'Call to Action': 'We must take urgent action to address climate change. This includes reducing greenhouse gas emissions, investing in renewable energy and sustainable practices, and advocating for policies that prioritize climate action and environmental protection.'}"
      ]
     },
     "execution_count": 6,
     "metadata": {},
     "output_type": "execute_result"
    }
   ],
   "source": [
    "data"
   ]
  },
  {
   "cell_type": "code",
   "execution_count": 7,
   "metadata": {},
   "outputs": [],
   "source": [
    "from pptx import Presentation\n",
    "\n",
    "# Create a presentation object\n",
    "prs = Presentation()"
   ]
  },
  {
   "cell_type": "code",
   "execution_count": 8,
   "metadata": {},
   "outputs": [],
   "source": [
    "from pptx import Presentation\n",
    "from pptx.util import Inches, Pt\n",
    "from pptx.enum.text import PP_ALIGN\n",
    "\n",
    "def add_image_and_text_slide(prs, image_path, title, content):\n",
    "    # Choose a slide layout with content and picture placeholder\n",
    "    slide_layout = prs.slide_layouts[5]  # 5 corresponds to 'Title Slide with Picture Placeholder'\n",
    "\n",
    "    # Add the new slide to the presentation\n",
    "    slide = prs.slides.add_slide(slide_layout)\n",
    "\n",
    "    # Set title\n",
    "    title_shape = slide.shapes.title\n",
    "    title_shape.text = title\n",
    "\n",
    "    # Add image on the left side\n",
    "    left_inch = Inches(0.5)\n",
    "    top_inch = Inches(1.5)\n",
    "    pic = slide.shapes.add_picture(image_path, left_inch, top_inch, width=Inches(4))\n",
    "\n",
    "    # Add text on the right side\n",
    "    text_box = slide.shapes.add_textbox(Inches(5), top_inch, Inches(3), Inches(5))\n",
    "    text_frame = text_box.text_frame\n",
    "    p = text_frame.add_paragraph()\n",
    "    p.text = content\n",
    "    p.alignment = PP_ALIGN.LEFT\n",
    "    p.font.size = Pt(18)\n"
   ]
  },
  {
   "cell_type": "code",
   "execution_count": 1,
   "metadata": {},
   "outputs": [],
   "source": [
    "from pptx import Presentation\n",
    "\n",
    "def read_pptx(filename):\n",
    "    \"\"\"\n",
    "    Read a PowerPoint presentation (.pptx) file and return the presentation object.\n",
    "\n",
    "    Parameters:\n",
    "    - filename (str): The name of the PowerPoint (.pptx) file to read.\n",
    "\n",
    "    Returns:\n",
    "    - prs (Presentation): The presentation object.\n",
    "    \"\"\"\n",
    "    # Create a presentation object\n",
    "    prs = Presentation(filename)\n",
    "\n",
    "    return prs"
   ]
  },
  {
   "cell_type": "code",
   "execution_count": 10,
   "metadata": {},
   "outputs": [],
   "source": [
    "fname = \"slidego_template.pptx\"\n",
    "prs = read_pptx(fname)"
   ]
  },
  {
   "cell_type": "code",
   "execution_count": 11,
   "metadata": {},
   "outputs": [],
   "source": [
    "# Add a slide with image on the left and text on the right\n",
    "add_image_and_text_slide(prs, 'earth.jpg', 'Slide Title', 'Text content goes here.')\n",
    "# Save the presentation\n",
    "prs.save(\"slidego_pres.pptx\")"
   ]
  },
  {
   "cell_type": "code",
   "execution_count": 12,
   "metadata": {},
   "outputs": [
    {
     "data": {
      "text/plain": [
       "['TITLE',\n",
       " 'SECTION_HEADER',\n",
       " 'TITLE_AND_BODY',\n",
       " 'TITLE_AND_TWO_COLUMNS',\n",
       " 'TITLE_ONLY',\n",
       " 'ONE_COLUMN_TEXT',\n",
       " 'MAIN_POINT',\n",
       " 'SECTION_TITLE_AND_DESCRIPTION',\n",
       " 'CAPTION_ONLY',\n",
       " 'BIG_NUMBER',\n",
       " 'BLANK',\n",
       " 'BLANK_1_1_1_1_1_1',\n",
       " 'CUSTOM_10',\n",
       " 'BLANK_1_1',\n",
       " 'CUSTOM',\n",
       " 'CUSTOM_11',\n",
       " 'CUSTOM_4',\n",
       " 'CUSTOM_4_1',\n",
       " 'TITLE_AND_TWO_COLUMNS_1',\n",
       " 'TITLE_AND_TWO_COLUMNS_1_2',\n",
       " 'TITLE_AND_TWO_COLUMNS_1_1',\n",
       " 'TITLE_AND_TWO_COLUMNS_1_1_1',\n",
       " 'CUSTOM_6',\n",
       " 'CUSTOM_6_1',\n",
       " 'CUSTOM_5',\n",
       " 'CUSTOM_7',\n",
       " 'CUSTOM_8',\n",
       " 'CUSTOM_3_1',\n",
       " 'CUSTOM_9',\n",
       " 'CUSTOM_9_1']"
      ]
     },
     "execution_count": 12,
     "metadata": {},
     "output_type": "execute_result"
    }
   ],
   "source": [
    "[slide_layout.name for slide_layout in prs.slide_layouts]"
   ]
  },
  {
   "cell_type": "code",
   "execution_count": null,
   "metadata": {},
   "outputs": [],
   "source": []
  }
 ],
 "metadata": {
  "kernelspec": {
   "display_name": "autoppt",
   "language": "python",
   "name": "python3"
  },
  "language_info": {
   "codemirror_mode": {
    "name": "ipython",
    "version": 3
   },
   "file_extension": ".py",
   "mimetype": "text/x-python",
   "name": "python",
   "nbconvert_exporter": "python",
   "pygments_lexer": "ipython3",
   "version": "3.10.14"
  }
 },
 "nbformat": 4,
 "nbformat_minor": 2
}
