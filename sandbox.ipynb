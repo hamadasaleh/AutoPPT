{
 "cells": [
  {
   "cell_type": "code",
   "execution_count": 880,
   "metadata": {},
   "outputs": [],
   "source": [
    "from datetime import datetime\n",
    "from typing import Iterable, Tuple\n",
    "\n",
    "from pptx import Presentation\n"
   ]
  },
  {
   "cell_type": "code",
   "execution_count": null,
   "metadata": {},
   "outputs": [],
   "source": [
    "ppt_template_path = \"./myPPT_template.pptx\""
   ]
  },
  {
   "cell_type": "code",
   "execution_count": 882,
   "metadata": {},
   "outputs": [],
   "source": [
    "# Helpers\n",
    "def read_pptx(filename):\n",
    "    \"\"\"\n",
    "    Read a PowerPoint presentation (.pptx) file and return the presentation object.\n",
    "\n",
    "    Parameters:\n",
    "    - filename (str): The name of the PowerPoint (.pptx) file to read.\n",
    "\n",
    "    Returns:\n",
    "    - prs (Presentation): The presentation object.\n",
    "    \"\"\"\n",
    "    # Create a presentation object\n",
    "    prs = Presentation(filename)\n",
    "\n",
    "    return prs\n",
    "\n",
    "\n",
    "def get_layout_mapping(prs) -> dict:\n",
    "    \"\"\"\n",
    "    This function returns a dictionary mapping slide layout names to their indices.\n",
    "\n",
    "    Parameters:\n",
    "    - prs (Presentation): The presentation object to extract slide layouts from.\n",
    "\n",
    "    Returns:\n",
    "    - lay2idx (dict): A dictionary where the keys are the names of slide layouts and the values are their indices in the presentation.\n",
    "    \"\"\"\n",
    "    # Mapping between slide layout names and indices\n",
    "    lay2idx = {slide_layout.name: i for i, slide_layout in enumerate(prs.slide_layouts)}\n",
    "    return lay2idx\n",
    "\n",
    "\n",
    "def get_slide_and_shapes(\n",
    "    name: str, prs: \"Presentation\", lay2idx: dict\n",
    ") -> Tuple[\"Presentation\", dict]:\n",
    "    \"\"\"\n",
    "    This function gets a slide given a text and shapes within it.\n",
    "\n",
    "    Parameters:\n",
    "    prs (Presentation): The PowerPoint presentation object.\n",
    "    text (str): The text to search for in the presentation.\n",
    "\n",
    "    Returns:\n",
    "    slide (Slide): The slide object containing the text.\n",
    "    \"\"\"\n",
    "    # Target slide id\n",
    "    layout_id = lay2idx[name]\n",
    "    # Target slide layout\n",
    "    layout = prs.slide_layouts[layout_id]\n",
    "    # Target slide\n",
    "    slide = prs.slides.add_slide(layout)\n",
    "    # Mapping between target slide shapes and indices\n",
    "    shape2idx = {s.name: i for i, s in enumerate(slide.shapes)}\n",
    "    return slide, shape2idx\n",
    "\n",
    "\n",
    "def add_title(title: str, slide, title_id: int) -> None:\n",
    "    \"\"\"\n",
    "    Add a title to a given slide.\n",
    "\n",
    "    Parameters:\n",
    "    - slide (pptx.slides.Slide): The slide to which the title will be added.\n",
    "    - title (str): The text of the title.\n",
    "\n",
    "    Returns:\n",
    "    - None: This function does not return any value. It modifies the slide object.\n",
    "    \"\"\"\n",
    "    title_shape = slide.shapes[title_id]\n",
    "    title_shape.text = title\n",
    "\n",
    "\n",
    "def set_title_slide(\n",
    "    prs: \"Presentation\", title: str, subtitle: str, date: str\n",
    ") -> \"Presentation\":\n",
    "    \"\"\"\n",
    "    This function sets the title slide of a PowerPoint presentation.\n",
    "\n",
    "    Parameters:\n",
    "    prs (Presentation): The presentation object to which the title slide will be added.\n",
    "    title (str): The main title of the presentation.\n",
    "    subtitle (str): The subtitle of the presentation.\n",
    "    date (str): The date to be displayed on the title slide.\n",
    "\n",
    "    Returns:\n",
    "    prs (Presentation): The updated presentation object with the added title slide.\n",
    "\n",
    "    Note:\n",
    "    - The function assumes that the presentation template has a title slide layout at index 0.\n",
    "    - The function accesses the shapes of the title slide by their index. This may not work if the\n",
    "      placeholder names from the layout are reset when the actual slide is instantiated.\n",
    "    \"\"\"\n",
    "    # Title slide layout\n",
    "    title_slide_layout = prs.slide_layouts[0]\n",
    "\n",
    "    # Add a title slide based on the title slide layout\n",
    "    title_slide = prs.slides.add_slide(title_slide_layout)\n",
    "\n",
    "    # TODO: Placeholder names from layout seem to be reset\n",
    "    # TODO: when actual slide is instantiated\n",
    "    # Accessing shapes by index (assuming placeholders are not renamed)\n",
    "    title_shape0 = title_slide.shapes[0]\n",
    "    title_shape1 = title_slide.shapes[1]\n",
    "    title_shape2 = title_slide.shapes[2]\n",
    "\n",
    "    # Set the text for each shape\n",
    "    title_shape0.text = date\n",
    "    title_shape1.text = title\n",
    "    title_shape2.text = subtitle\n",
    "\n",
    "    return prs\n",
    "\n",
    "\n",
    "def set_toc(prs, toc_id, toc_title, toc_content) -> None:\n",
    "    \"\"\"\n",
    "    This function sets the table of contents (TOC) slide in a PowerPoint presentation.\n",
    "\n",
    "    Parameters:\n",
    "    prs (Presentation): The presentation object to which the TOC slide will be added.\n",
    "    toc_id (int): The index of the slide layout for the TOC slide.\n",
    "    toc_title (str): The title of the TOC slide.\n",
    "    toc_content (list[str]): A list of strings representing the content of the TOC.\n",
    "\n",
    "    Returns:\n",
    "    prs (Presentation): The updated presentation object with the added TOC slide.\n",
    "\n",
    "    Note:\n",
    "    - The function assumes that the presentation template has a slide layout for the TOC slide.\n",
    "    - The function accesses the shapes of the TOC slide by their index. This may not work if the\n",
    "      placeholder names from the layout are reset when the actual slide is instantiated.\n",
    "    \"\"\"\n",
    "    # TOC layout\n",
    "    toc_layout = prs.slide_layouts[toc_id]\n",
    "\n",
    "    # Create & add TOC slide\n",
    "    toc_slide = prs.slides.add_slide(toc_layout)\n",
    "\n",
    "    # TODO: move somewhere else\n",
    "    # Mapping between slide shapes and indices\n",
    "    shape2idx = {s.name: i for i, s in enumerate(toc_slide.shapes)}\n",
    "\n",
    "    # Add title to TOC slide\n",
    "    toc_title_id = shape2idx[\"Title 2\"]\n",
    "    add_title(title=toc_title, slide=toc_slide, title_id=toc_title_id)\n",
    "\n",
    "    # Populate table of contents with section names\n",
    "    toc_content_id = shape2idx[\"Text Placeholder 1\"]\n",
    "    toc_content_shape = toc_slide.shapes[toc_content_id]\n",
    "\n",
    "    toc_text_frame = toc_content_shape.text_frame\n",
    "\n",
    "    # Populate table of contents with section names\n",
    "    p = toc_text_frame.paragraphs[0]\n",
    "    p.text = toc_content[0]\n",
    "\n",
    "    for para_str in toc_content[1:]:\n",
    "        p = toc_text_frame.add_paragraph()\n",
    "        p.text = para_str\n",
    "\n",
    "    return prs\n",
    "\n",
    "\n",
    "# def add_image_and_text_slide(prs, image_path, title, content):\n",
    "#     \"\"\"\n",
    "#     This function adds a new slide to a PowerPoint presentation with an image on the left and text on the right.\n",
    "\n",
    "#     Parameters:\n",
    "#     prs (Presentation): The presentation object to which the new slide will be added.\n",
    "#     image_path (str): The path to the image file to be added to the slide.\n",
    "#     title (str): The title of the slide.\n",
    "#     content (str): The text content to be added to the slide.\n",
    "\n",
    "#     Returns:\n",
    "#     None: This function does not return any value. It modifies the presentation object.\n",
    "\n",
    "#     Note:\n",
    "#     - This function assumes that the presentation template has a slide layout with a picture placeholder.\n",
    "#     - The function uses the pptx library to manipulate the PowerPoint presentation.\n",
    "#     \"\"\"\n",
    "\n",
    "#     # Choose a slide layout with content and picture placeholder\n",
    "#     slide_layout = prs.slide_layouts[\n",
    "#         5\n",
    "#     ]  # 5 corresponds to 'Title Slide with Picture Placeholder'\n",
    "\n",
    "#     # Add the new slide to the presentation\n",
    "#     slide = prs.slides.add_slide(slide_layout)\n",
    "\n",
    "#     # Set title\n",
    "#     title_shape = slide.shapes.title\n",
    "#     title_shape.text = title\n",
    "\n",
    "#     # Add image on the left side\n",
    "#     left_inch = Inches(0.5)\n",
    "#     top_inch = Inches(1.5)\n",
    "#     pic = slide.shapes.add_picture(image_path, left_inch, top_inch, width=Inches(4))\n",
    "\n",
    "#     # Add text on the right side\n",
    "#     text_box = slide.shapes.add_textbox(Inches(5), top_inch, Inches(3), Inches(5))\n",
    "#     text_frame = text_box.text_frame\n",
    "#     p = text_frame.add_paragraph()\n",
    "#     p.text = content\n",
    "#     p.alignment = PP_ALIGN.LEFT\n",
    "#     p.font.size = Pt(18)\n",
    "\n",
    "\n",
    "def set_bullet_points(bp_dict: Iterable, text_frame: \"Text Placeholder\") -> None:\n",
    "    \"\"\"\n",
    "    This function populates a text frame with bullet points based on a given dictionary.\n",
    "\n",
    "    Parameters:\n",
    "    bp_dict (Iterable): A dictionary containing bullet point keys and values.\n",
    "    text_frame (TextFrame): The text frame where the bullet points will be added.\n",
    "\n",
    "    Returns:\n",
    "    None: This function does not return any value. It modifies the text frame directly.\n",
    "    \"\"\"\n",
    "    for i, (k, v) in enumerate(bp_dict.items()):\n",
    "        if i == 0:\n",
    "            p = text_frame.paragraphs[0]\n",
    "        else:\n",
    "            p = text_frame.add_paragraph()\n",
    "        p.level = 0\n",
    "\n",
    "        # Add dataset feature in bold\n",
    "        run = p.add_run()\n",
    "        run.text = f\"{k}: \"\n",
    "        run.font.bold = True\n",
    "\n",
    "        # Add dataset feature content\n",
    "        if isinstance(v, str):\n",
    "            run = p.add_run()\n",
    "            run.text = v\n",
    "        elif isinstance(v, list):\n",
    "            for i, item in enumerate(v):\n",
    "                p = text_frame.add_paragraph()\n",
    "                p.text = item\n",
    "                p.level = 1\n",
    "\n",
    "\n",
    "def set_img(\n",
    "    slide: \"Slide\", img_path: str, placedholder_name: str, shape2idx: dict\n",
    ") -> None:\n",
    "    \"\"\"\n",
    "    This function inserts an image into a PowerPoint image placeholder.\n",
    "\n",
    "    Parameters:\n",
    "    - slide (Slide): The slide to which the image will be added.\n",
    "    - img_path (str): The path to the image file to be added to the slide.\n",
    "    - placedholder_name (str): The name of the image placeholder in the slide layout.\n",
    "    - shape2idx (dict): A dictionary mapping shape names to their indices in the slide.\n",
    "\n",
    "    Returns:\n",
    "    None: This function does not return any value. It modifies the slide object directly.\n",
    "\n",
    "    Note:\n",
    "    - This function assumes that the presentation template has an image placeholder with the given name.\n",
    "    - The function uses the pptx library to manipulate the PowerPoint presentation.\n",
    "    \"\"\"\n",
    "    pp_id = shape2idx[placedholder_name]\n",
    "    image_shape = slide.shapes[pp_id]\n",
    "    img = image_shape.insert_picture(img_path)\n",
    "\n",
    "\n",
    "def get_text_frame(slide, placeholder_name, shape2idx):\n",
    "    \"\"\"\n",
    "    This function returns the text frame of a PowerPoint placeholder.\n",
    "\n",
    "    Parameters:\n",
    "    - slide (pptx.slides.Slide): The slide containing the specified placeholder.\n",
    "    - placeholder_name (str): The name of the text placeholder within the slide.\n",
    "    - shape2idx (dict): A dictionary mapping shape names to their indices in the slide.\n",
    "\n",
    "    Returns:\n",
    "    - text_frame (pptx.slides.shapes.TextPlaceholder): The text frame of the specified placeholder.\n",
    "\n",
    "    This function retrieves the text frame associated with a given text placeholder within a slide. It uses the provided dictionary `shape2idx` to map the names of the slide shapes to their indices, allowing for efficient retrieval of the desired shape.\n",
    "\n",
    "    Example usage:\n",
    "\n",
    "    ```python\n",
    "    slide = prs.slides[0]  # Assuming prs is the presentation object\n",
    "    placeholder_name = \"Text Placeholder 1\"\n",
    "    shape2idx = {s.name: i for i, s in enumerate(slide.shapes)}\n",
    "    text_frame = get_text_frame(slide, placeholder_name, shape2idx)\n",
    "    ```\n",
    "    \"\"\"\n",
    "    pp_id = shape2idx[placeholder_name]\n",
    "    text_shape = slide.shapes[pp_id]\n",
    "    text_frame = text_shape.text_frame\n",
    "    return text_frame"
   ]
  },
  {
   "cell_type": "markdown",
   "metadata": {},
   "source": [
    "[Modeling the spatial dependence of floods](https://hess.copernicus.org/articles/23/107/2019/hess-23-107-2019.pdf)"
   ]
  },
  {
   "cell_type": "markdown",
   "metadata": {},
   "source": [
    "# Read powerpoint template file"
   ]
  },
  {
   "cell_type": "code",
   "execution_count": 883,
   "metadata": {},
   "outputs": [],
   "source": [
    "# Load PPT template\n",
    "prs = read_pptx(ppt_template_path)\n",
    "# Map PPT template slides to indices for convenience\n",
    "lay2idx = get_layout_mapping(prs=prs)"
   ]
  },
  {
   "cell_type": "code",
   "execution_count": 884,
   "metadata": {},
   "outputs": [
    {
     "data": {
      "text/plain": [
       "{'Titre': 0,\n",
       " 'Section': 1,\n",
       " 'Goals': 2,\n",
       " 'TOC': 3,\n",
       " 'Bullet points + Image': 4,\n",
       " 'Contenu classique': 5,\n",
       " 'Contenu classique avec note': 6,\n",
       " '2 contenus': 7,\n",
       " '2 contenus + couleur droite': 8,\n",
       " '1_2 contenus + 2 couleurs': 9,\n",
       " '2 contenus + 2 couleurs': 10,\n",
       " 'Graphe et commentaire': 11,\n",
       " '2 Graphes et commentaires': 12,\n",
       " '2 Graphes et 1 commentaire': 13,\n",
       " 'Titre seul': 14,\n",
       " 'Conclusion': 15,\n",
       " 'Annexe': 16}"
      ]
     },
     "execution_count": 884,
     "metadata": {},
     "output_type": "execute_result"
    }
   ],
   "source": [
    "lay2idx"
   ]
  },
  {
   "cell_type": "markdown",
   "metadata": {},
   "source": [
    "## Title slide"
   ]
  },
  {
   "cell_type": "code",
   "execution_count": 885,
   "metadata": {},
   "outputs": [],
   "source": [
    "# Presentation title\n",
    "TITLE = \"Modelling flood-related physical risks\"\n",
    "# Presentation subtitle\n",
    "SUBTITLE = (\n",
    "    \"The importance of integrating spatial dependence for reliable damage estimates\"\n",
    ")\n",
    "# Get the current date\n",
    "current_date = datetime.now()\n",
    "# Format the date as DD/MM/YYYY\n",
    "formatted_date = current_date.strftime(\"%d/%m/%Y\")"
   ]
  },
  {
   "cell_type": "code",
   "execution_count": 886,
   "metadata": {},
   "outputs": [
    {
     "data": {
      "text/plain": [
       "<pptx.presentation.Presentation at 0x26c2c4f7700>"
      ]
     },
     "execution_count": 886,
     "metadata": {},
     "output_type": "execute_result"
    }
   ],
   "source": [
    "set_title_slide(prs=prs, title=TITLE, subtitle=SUBTITLE, date=formatted_date)"
   ]
  },
  {
   "cell_type": "markdown",
   "metadata": {},
   "source": [
    "# Objectives/Motivation slide"
   ]
  },
  {
   "cell_type": "code",
   "execution_count": 887,
   "metadata": {},
   "outputs": [],
   "source": [
    "# \"Goals\" slide\n",
    "goals_id = lay2idx[\"Goals\"]\n",
    "# \"Goals\" slide layout\n",
    "goals_layout = prs.slide_layouts[goals_id]\n",
    "# Instantiate \"Goals\" slide & add to presentation\n",
    "goals_slide = prs.slides.add_slide(goals_layout)\n",
    "# Mapping between slide shapes and indices\n",
    "shape2idx = {s.name: i for i, s in enumerate(goals_slide.shapes)}\n",
    "# Add slide title\n",
    "title_id = shape2idx[\"Title 1\"]\n",
    "title = (\n",
    "    \"We investigate the impact of future flood hazards on existing physical assets, \\\n",
    "thanks to some of the most recent global and open-source datasets\"\n",
    ")\n",
    "add_title(title=title, slide=goals_slide, title_id=title_id)\n",
    "\n",
    "# Add text to text placedholders\n",
    "text_placeholders = [\n",
    "    \"Text Placeholder 3\",\n",
    "    \"Text Placeholder 2\",\n",
    "    \"Text Placeholder 6\",\n",
    "    \"Text Placeholder 8\",\n",
    "]\n",
    "# Input: goals, challenges, ..., ...\n",
    "contents = {\n",
    "    \"Goal\": \"estimating the impact of flood hazards on existing physical assets\",\n",
    "    \"Challenges\": \"current climate intensity projections do not account for the interdependence between hazards\",\n",
    "    \"Approach\": \"we resort to Extreme Value Theory, and copulas in particular, to model the dependence between extreme flood events\",\n",
    "}\n",
    "\n",
    "contents_list = list(contents.items())\n",
    "\n",
    "for i, text_placeholder in enumerate(text_placeholders):\n",
    "    text_id = shape2idx[text_placeholder]\n",
    "    text_shape = goals_slide.shapes[text_id]\n",
    "    text_frame = text_shape.text_frame\n",
    "    # Populate table of contents with section names\n",
    "    p = text_frame.paragraphs[0]\n",
    "    try:\n",
    "        k, v = contents_list[i]\n",
    "    except IndexError:\n",
    "        k, v = \"\", \"\"\n",
    "    p.text = f\"{k}: {v}\"\n",
    "\n",
    "# Icons\n",
    "goals_logo_path = (\n",
    "    \"C:/Users/hamada.saleh/Documents/Python Scripts/AutoPPT/flood_pres/goal_logo.png\"\n",
    ")\n",
    "challenges_logo_path = \"C:/Users/hamada.saleh/Documents/Python Scripts/AutoPPT/flood_pres/challenges_logo.png\"\n",
    "solution_logo_path = \"C:/Users/hamada.saleh/Documents/Python Scripts/AutoPPT/flood_pres/solution_logo.png\"\n",
    "set_img(\n",
    "    slide=goals_slide,\n",
    "    img_path=goals_logo_path,\n",
    "    placedholder_name=\"Picture Placeholder 4\",\n",
    "    shape2idx=shape2idx,\n",
    ")\n",
    "set_img(\n",
    "    slide=goals_slide,\n",
    "    img_path=challenges_logo_path,\n",
    "    placedholder_name=\"Picture Placeholder 5\",\n",
    "    shape2idx=shape2idx,\n",
    ")\n",
    "set_img(\n",
    "    slide=goals_slide,\n",
    "    img_path=solution_logo_path,\n",
    "    placedholder_name=\"Picture Placeholder 7\",\n",
    "    shape2idx=shape2idx,\n",
    ")"
   ]
  },
  {
   "cell_type": "code",
   "execution_count": 888,
   "metadata": {},
   "outputs": [
    {
     "data": {
      "text/plain": [
       "{'Title 1': 0,\n",
       " 'Text Placeholder 2': 1,\n",
       " 'Text Placeholder 3': 2,\n",
       " 'Picture Placeholder 4': 3,\n",
       " 'Picture Placeholder 5': 4,\n",
       " 'Text Placeholder 6': 5,\n",
       " 'Picture Placeholder 7': 6,\n",
       " 'Text Placeholder 8': 7}"
      ]
     },
     "execution_count": 888,
     "metadata": {},
     "output_type": "execute_result"
    }
   ],
   "source": [
    "shape2idx"
   ]
  },
  {
   "cell_type": "markdown",
   "metadata": {},
   "source": [
    "# Outline/TOC slide"
   ]
  },
  {
   "cell_type": "code",
   "execution_count": 889,
   "metadata": {},
   "outputs": [
    {
     "data": {
      "text/plain": [
       "<pptx.presentation.Presentation at 0x26c2c4f7700>"
      ]
     },
     "execution_count": 889,
     "metadata": {},
     "output_type": "execute_result"
    }
   ],
   "source": [
    "# Slide \"Sommaire\"\n",
    "toc_id = lay2idx[\"TOC\"]\n",
    "# TOC title\n",
    "toc_title = \"Table of contents\"\n",
    "\n",
    "toc_content = [\n",
    "    \"Datasets 0. Physical assets: Climate Trace 1. Flood hazards: Global Flood Database\",\n",
    "    \"Extreme value theory: modelling tail dependencies between flood events. 0. Intuition behind flood modelling 1. Theoretical framework 2. Application\",\n",
    "    \"Results\",\n",
    "    \"Conclusion & Next steps\",\n",
    "]\n",
    "set_toc(prs=prs, toc_id=toc_id, toc_title=toc_title, toc_content=toc_content)"
   ]
  },
  {
   "cell_type": "markdown",
   "metadata": {},
   "source": [
    "# Add bullets points + Image slide"
   ]
  },
  {
   "cell_type": "markdown",
   "metadata": {},
   "source": [
    "## Dataset presentation slide"
   ]
  },
  {
   "cell_type": "code",
   "execution_count": 890,
   "metadata": {},
   "outputs": [],
   "source": [
    "# Get \"Bullet points + Image\" slide\n",
    "name = \"Bullet points + Image\"\n",
    "content_slide, shape2idx = get_slide_and_shapes(name=name, prs=prs, lay2idx=lay2idx)"
   ]
  },
  {
   "cell_type": "markdown",
   "metadata": {},
   "source": [
    "0. Dataset title"
   ]
  },
  {
   "cell_type": "code",
   "execution_count": 891,
   "metadata": {},
   "outputs": [],
   "source": [
    "slide_title_id = shape2idx[\"Title 3\"]\n",
    "# Populate slide title\n",
    "slide_title = \"The Global Flood Database provides 912 historical floods between 2000 and 2018 and allows to estimate the dependence between flood events from regional river networks\"\n",
    "slide_title_shape = content_slide.shapes[slide_title_id]\n",
    "slide_title_shape.text = slide_title"
   ]
  },
  {
   "cell_type": "markdown",
   "metadata": {},
   "source": [
    "1. Dataset features"
   ]
  },
  {
   "cell_type": "code",
   "execution_count": 892,
   "metadata": {},
   "outputs": [],
   "source": [
    "feat_keys = [\"Sample size\", \"Geographic coverage\", \"Time coverage\", \"Features\"]"
   ]
  },
  {
   "cell_type": "code",
   "execution_count": 893,
   "metadata": {},
   "outputs": [
    {
     "data": {
      "text/plain": [
       "{'Text Placeholder 1': 0,\n",
       " 'Text Placeholder 2': 1,\n",
       " 'Title 3': 2,\n",
       " 'Picture Placeholder 4': 3,\n",
       " 'Picture Placeholder 5': 4}"
      ]
     },
     "execution_count": 893,
     "metadata": {},
     "output_type": "execute_result"
    }
   ],
   "source": [
    "shape2idx"
   ]
  },
  {
   "cell_type": "code",
   "execution_count": 894,
   "metadata": {},
   "outputs": [],
   "source": [
    "# Set \"Bullet points\" icon\n",
    "icon_path = \"C:/Users/hamada.saleh/Documents/Python Scripts/AutoPPT/flood_pres/global_flood_database_logo.png\"\n",
    "set_img(\n",
    "    slide=content_slide,\n",
    "    img_path=icon_path,\n",
    "    placedholder_name=\"Picture Placeholder 5\",\n",
    "    shape2idx=shape2idx,\n",
    ")\n",
    "\n",
    "# Set \"Bullet points\" title\n",
    "bp_title_id = shape2idx[\"Text Placeholder 2\"]\n",
    "bp_title_shape = content_slide.shapes[bp_title_id]\n",
    "# Populate title shape with title\n",
    "title = \"Global Flood Database\"\n",
    "db_source = \"https://global-flood-database.cloudtostreet.ai/#interactive-map\"\n",
    "p = bp_title_shape.text_frame.paragraphs[0]\n",
    "r = p.add_run()\n",
    "r.text = title\n",
    "# Add a hyperlink to the text\n",
    "hlink = r.hyperlink\n",
    "hlink.address = db_source"
   ]
  },
  {
   "cell_type": "markdown",
   "metadata": {},
   "source": [
    "# Set \"Bullet points\" content"
   ]
  },
  {
   "cell_type": "code",
   "execution_count": 895,
   "metadata": {},
   "outputs": [],
   "source": [
    "global_flood_database_bp = {\n",
    "    \"Sample size\": \"913 events\",\n",
    "    \"Geographic coverage\": \"169 countries\",\n",
    "    \"Time coverage\": \"2000 to 2018\",\n",
    "    \"Main features\": [\n",
    "        \"Provides spatial flood extent, duration, and magnitude.\",\n",
    "        \"Offers historic maps to inform current and future vulnerability hot spots.\",\n",
    "    ],\n",
    "}\n"
   ]
  },
  {
   "cell_type": "code",
   "execution_count": 896,
   "metadata": {},
   "outputs": [],
   "source": [
    "text_frame = get_text_frame(\n",
    "    slide=content_slide, placeholder_name=\"Text Placeholder 1\", shape2idx=shape2idx\n",
    ")\n",
    "set_bullet_points(bp_dict=global_flood_database_bp, text_frame=text_frame)\n"
   ]
  },
  {
   "cell_type": "markdown",
   "metadata": {},
   "source": [
    "2. Image"
   ]
  },
  {
   "cell_type": "code",
   "execution_count": 897,
   "metadata": {},
   "outputs": [
    {
     "data": {
      "text/plain": [
       "{'Text Placeholder 1': 0,\n",
       " 'Text Placeholder 2': 1,\n",
       " 'Title 3': 2,\n",
       " 'Picture Placeholder 4': 3,\n",
       " 'Picture Placeholder 5': 4}"
      ]
     },
     "execution_count": 897,
     "metadata": {},
     "output_type": "execute_result"
    }
   ],
   "source": [
    "shape2idx"
   ]
  },
  {
   "cell_type": "code",
   "execution_count": 898,
   "metadata": {},
   "outputs": [],
   "source": [
    "# Example image of flood in Pakistan from Global Flood Database\n",
    "img_path = \"C:/Users/hamada.saleh/Documents/Python Scripts/AutoPPT/flood_pres/global_flood_database_pakistan_example.png\"\n",
    "set_img(\n",
    "    slide=content_slide,\n",
    "    img_path=img_path,\n",
    "    placedholder_name=\"Picture Placeholder 4\",\n",
    "    shape2idx=shape2idx,\n",
    ")"
   ]
  },
  {
   "cell_type": "markdown",
   "metadata": {},
   "source": [
    "# Conclusion/Next steps slide"
   ]
  },
  {
   "cell_type": "code",
   "execution_count": 899,
   "metadata": {},
   "outputs": [],
   "source": [
    "# \"Conclusion\" slide id\n",
    "ccl_id = lay2idx[\"Conclusion\"]\n",
    "# \"Conclusion\" slide layout\n",
    "ccl_layout = prs.slide_layouts[ccl_id]\n",
    "# \"Conclusion\" slide\n",
    "ccl_slide = prs.slides.add_slide(ccl_layout)\n",
    "# Mapping between slide shapes and indices\n",
    "shape2idx = {s.name: i for i, s in enumerate(ccl_slide.shapes)}\n",
    "# Add slide title\n",
    "title_id = shape2idx[\"Title 1\"]\n",
    "ccl_title = \"We develop a method for assessing the impact of flood hazards under future climate conditions and taking regional dependencies between river catchments into account.\"\n",
    "add_title(title=ccl_title, slide=ccl_slide, title_id=title_id)\n",
    "# Add text to text placedholders\n",
    "text_placeholders = [\n",
    "    \"Text Placeholder 2\",  # \"Next Steps\"\n",
    "    \"Text Placeholder 3\",  # \"Main Conclusions\"\n",
    "    \"Text Placeholder 4\",  # \"Main Achievements\"\n",
    "]\n",
    "\n",
    "# Bullet points list\n",
    "values = [\n",
    "    [\"How do physical impacts translate into financial impacts?\"],\n",
    "    [\"\"],\n",
    "    [\n",
    "        \"Module for matching large-scale asset-level datasets with global hazard maps.\",\n",
    "        \"Copula-based module for capturing tail dependencies between neighbouring river catchments.\",\n",
    "    ],\n",
    "]\n",
    "for i, text_placeholder in enumerate(text_placeholders):\n",
    "    text_id = shape2idx[text_placeholder]\n",
    "    text_shape = ccl_slide.shapes[text_id]\n",
    "    text_frame = text_shape.text_frame\n",
    "    # content\n",
    "    v = values[i]\n",
    "    # Populate table of contents with section names\n",
    "    p = text_frame.paragraphs[0]\n",
    "    p.text = v[0]\n",
    "    p.level = 0\n",
    "    if len(v) > 1:\n",
    "        for j in range(1, len(v)):\n",
    "            p = text_frame.add_paragraph()\n",
    "            p.text = v[j]\n",
    "            p.level = 0"
   ]
  },
  {
   "cell_type": "code",
   "execution_count": 900,
   "metadata": {},
   "outputs": [
    {
     "data": {
      "text/plain": [
       "{'Title 1': 0,\n",
       " 'Text Placeholder 2': 1,\n",
       " 'Text Placeholder 3': 2,\n",
       " 'Text Placeholder 4': 3}"
      ]
     },
     "execution_count": 900,
     "metadata": {},
     "output_type": "execute_result"
    }
   ],
   "source": [
    "shape2idx"
   ]
  },
  {
   "cell_type": "markdown",
   "metadata": {},
   "source": [
    "Set bullet points"
   ]
  },
  {
   "cell_type": "code",
   "execution_count": 901,
   "metadata": {},
   "outputs": [],
   "source": [
    "prs.save(\"pladifes.pptx\")"
   ]
  },
  {
   "cell_type": "markdown",
   "metadata": {},
   "source": [
    "# NEW SECTION"
   ]
  },
  {
   "cell_type": "code",
   "execution_count": null,
   "metadata": {},
   "outputs": [],
   "source": [
    "import re\n",
    "from pptx import Presentation\n",
    "from pptx.util import Inches, Pt\n",
    "from pptx.dml.color import RGBColor\n",
    "from pptx.enum.text import PP_ALIGN\n",
    "from pptx.oxml import parse_xml\n",
    "from pptx.oxml.ns import nsdecls"
   ]
  },
  {
   "cell_type": "code",
   "execution_count": null,
   "metadata": {},
   "outputs": [],
   "source": [
    "# CONSTANTS\n",
    "SLD_LAYOUT_TITLE = "
   ]
  },
  {
   "cell_type": "code",
   "execution_count": null,
   "metadata": {},
   "outputs": [],
   "source": [
    "\n",
    "def parse_md_file(md_file):\n",
    "    \"\"\"Parses a markdown file and extracts slide titles and bullet points without labels.\"\"\"\n",
    "    slides = []\n",
    "    with open(md_file, \"r\", encoding=\"utf-8\") as file:\n",
    "        content = file.read()\n",
    "\n",
    "    # Split slides using Markdown headers (e.g., # Slide 1: Title)\n",
    "    slide_sections = re.split(r\"^# (.*?)$\", content, flags=re.MULTILINE)[1:]\n",
    "\n",
    "    for i in range(0, len(slide_sections), 2):\n",
    "        title = re.sub(r\"^(Title Slide:|Slide \\d+:|Conclusion Slide:|References Slide:|Appendix Slide:)\\s*\", \"\", slide_sections[i].strip(), flags=re.IGNORECASE)  # Remove labels\n",
    "        bullets = [line.strip(\"- \").strip() for line in slide_sections[i + 1].split(\"\\n\") if line.startswith(\"-\")]\n",
    "        slides.append((title, bullets))\n",
    "\n",
    "    return slides\n",
    "\n",
    "def set_text_format(text_frame, font_name=\"Arial\", font_size=24, color=(0, 0, 0), align=PP_ALIGN.LEFT):\n",
    "    \"\"\"Applies font formatting and alignment to a text frame.\"\"\"\n",
    "    for paragraph in text_frame.paragraphs:\n",
    "        paragraph.alignment = align  # Set text alignment (JUSTIFY used in content slides)\n",
    "        run = paragraph.runs[0] if paragraph.runs else paragraph.add_run()\n",
    "        run.font.name = font_name\n",
    "        run.font.size = Pt(font_size)\n",
    "        run.font.color.rgb = RGBColor(*color)  # Set font color\n",
    "\n",
    "def parse_hyperlinked_text(text):\n",
    "    \"\"\"Extracts (text, URL) pairs from Markdown-style [text](url) hyperlinks.\"\"\"\n",
    "    pattern = r\"\\[(.*?)\\]\\((.*?)\\)\"\n",
    "    return re.findall(pattern, text)\n",
    "\n",
    "def add_hyperlinked_text(paragraph, text, url):\n",
    "    \"\"\"Adds only the hyperlinked text to a paragraph in PowerPoint (without raw MD syntax).\"\"\"\n",
    "    paragraph.clear()  # Remove any default text\n",
    "    run = paragraph.add_run()\n",
    "    run.text = text  # Display only the text, not the URL\n",
    "    run.font.color.rgb = RGBColor(0, 0, 255)  # Blue color for hyperlink\n",
    "    run.font.size = Pt(20)\n",
    "    run.hyperlink.address = url  # Make it clickable"
   ]
  },
  {
   "cell_type": "code",
   "execution_count": null,
   "metadata": {},
   "outputs": [],
   "source": [
    "slides = parse_md_file(md_file=\"slides.md\")"
   ]
  },
  {
   "cell_type": "code",
   "execution_count": null,
   "metadata": {},
   "outputs": [
    {
     "data": {
      "text/plain": [
       "[('Biodiversity Presentation', []),\n",
       " ('Introduction to Biodiversity',\n",
       "  ['Biodiversity refers to the variety of life, including species, ecosystems, and genetic diversity.',\n",
       "   'It maintains ecological balance and supports essential ecosystem services.',\n",
       "   'Found in terrestrial, freshwater, and marine environments worldwide.']),\n",
       " ('Importance of Biodiversity',\n",
       "  ['Supports ecosystem stability and resilience to environmental changes.',\n",
       "   'Provides essential resources like food, medicine, and raw materials.',\n",
       "   'Contributes to climate regulation, water purification, and soil fertility.']),\n",
       " ('Threats to Biodiversity',\n",
       "  ['Habitat destruction from deforestation, urbanization, and agriculture.',\n",
       "   'Climate change causing species extinction and ecosystem shifts.',\n",
       "   'Pollution harming air, water, and soil quality, affecting biodiversity.']),\n",
       " ('Conclusion',\n",
       "  ['Biodiversity is essential for ecosystem stability and human well-being.',\n",
       "   'Conservation efforts are crucial to protect species and habitats.',\n",
       "   'Sustainable practices can help preserve biodiversity for future generations.']),\n",
       " ('References',\n",
       "  ['[Convention on Biological Diversity (2023). *What is Biodiversity?*](https://www.cbd.int/)',\n",
       "   '[National Geographic (2022). *Biodiversity and Conservation.*](https://www.nationalgeographic.org/)',\n",
       "   '[IPBES (2021). *Global Assessment Report on Biodiversity and Ecosystem Services.*](https://www.ipbes.net/)']),\n",
       " ('Appendix 0', []),\n",
       " ('Appendix 1', []),\n",
       " ('Appendix 2', [])]"
      ]
     },
     "metadata": {},
     "output_type": "display_data"
    }
   ],
   "source": [
    "slides"
   ]
  },
  {
   "cell_type": "code",
   "execution_count": null,
   "metadata": {},
   "outputs": [],
   "source": [
    "from pptx import Presentation\n",
    "from pptx.util import Inches, Pt\n",
    "from pptx.dml.color import RGBColor\n",
    "from pptx.enum.text import PP_ALIGN\n",
    "from datetime import date\n",
    "\n",
    "\n",
    "def create_ppt_from_md(md_file, output_pptx, template_pptx = None):\n",
    "    \"\"\"Creates a PowerPoint file from a markdown file with justified bullet points and a distinct title slide.\"\"\"\n",
    "    slides_content = parse_md_file(md_file)\n",
    "    if template_pptx is not None:\n",
    "        prs = Presentation(template_pptx)\n",
    "    else:\n",
    "        prs = Presentation()\n",
    "        \n",
    "    slide_titles = []  # Store content slide titles for the outline\n",
    "    appendix_titles = []\n",
    "    \n",
    "    for i, (title, bullet_points) in enumerate(slides_content):\n",
    "        if i == 0 and not bullet_points:\n",
    "            # Title Slide\n",
    "            slide = prs.slides.add_slide(prs.slide_layouts[0])\n",
    "            title_placeholder = slide.shapes.title\n",
    "            subtitle_placeholder = slide.placeholders[1]\n",
    "\n",
    "            title_placeholder.text = title\n",
    "            subtitle_placeholder.text = \"\"\n",
    "\n",
    "            # Add date at the bottom-right corner\n",
    "            left, top = Inches(8.5), Inches(6.9)\n",
    "            date_textbox = slide.shapes.add_textbox(left, top, Inches(1), Inches(0.5))\n",
    "            date_text_frame = date_textbox.text_frame\n",
    "            date_text_frame.text = date.today().strftime(\"%d-%m-%Y\")\n",
    "\n",
    "            # Apply font formatting\n",
    "            set_text_format(title_placeholder.text_frame, font_name=\"Calibri\", font_size=44, color=(0, 0, 128))\n",
    "            set_text_format(subtitle_placeholder.text_frame, font_name=\"Calibri\", font_size=24, color=(80, 80, 80))\n",
    "\n",
    "        else:\n",
    "            # Check if slide is an appendix slide\n",
    "            if title.lower().startswith(\"appendix\"):\n",
    "                appendix_titles.append(title)\n",
    "            else:\n",
    "                slide_titles.append(title)\n",
    "            # Content Slides\n",
    "            slide = prs.slides.add_slide(prs.slide_layouts[1])\n",
    "            title_placeholder = slide.shapes.title\n",
    "            content_placeholder = slide.placeholders[1]\n",
    "\n",
    "            title_placeholder.text = title\n",
    "            content_placeholder.text = \"\"  # Clear placeholder text\n",
    "\n",
    "            # Add bullet points with justified alignment\n",
    "            for point in bullet_points:\n",
    "                paragraph = content_placeholder.text_frame.add_paragraph()\n",
    "                paragraph.text = f\"{point}\"\n",
    "                paragraph.alignment = PP_ALIGN.JUSTIFY  # Justify text\n",
    "                paragraph.space_after = Pt(8)\n",
    "                \n",
    "                hyperlinks = parse_hyperlinked_text(point)\n",
    "                if hyperlinks:\n",
    "                    for text, url in hyperlinks:\n",
    "                        add_hyperlinked_text(paragraph, text, url)  # Add clickable hyperlink\n",
    "                else:\n",
    "                    paragraph.text = point  # Regular text\n",
    "\n",
    "                # Apply font formatting\n",
    "                run = paragraph.runs[0]\n",
    "                run.font.name = \"Arial\"\n",
    "                run.font.size = Pt(20)\n",
    "                run.font.color.rgb = RGBColor(50, 50, 50)  # Dark Gray\n",
    "\n",
    "            # Apply formatting to title\n",
    "            set_text_format(title_placeholder.text_frame, font_name=\"Arial\", font_size=32, color=(0, 0, 0))\n",
    "\n",
    "            # Add slide number (bottom-right corner)\n",
    "            left, top = Inches(8.5), Inches(6.9)\n",
    "            slide_number = slide.shapes.add_textbox(left, top, Inches(1), Inches(0.5))\n",
    "            slide_number.text_frame.text = f\"{i}/{len(slides_content) - 1}\"\n",
    "            set_text_format(slide_number.text_frame, font_name=\"Arial\", font_size=14, color=(100, 100, 100), align=PP_ALIGN.RIGHT)\n",
    "    \n",
    "    # Create an Outline Slide after the Title Slide\n",
    "    outline_slide = prs.slides.add_slide(prs.slide_layouts[1])  # Title & Content Layout\n",
    "    outline_slide.shapes.title.text = \"Outline\"\n",
    "    outline_text_frame = outline_slide.placeholders[1].text_frame\n",
    "    outline_text_frame.clear()\n",
    "\n",
    "    for slide_title in slide_titles:\n",
    "        paragraph = outline_text_frame.add_paragraph()\n",
    "        paragraph.text = slide_title  # Add slide title as bullet point\n",
    "        paragraph.font.size = Pt(20)\n",
    "        paragraph.font.color.rgb = RGBColor(0, 0, 0)  # Black\n",
    "    \n",
    "    if appendix_titles:\n",
    "        paragraph = outline_text_frame.add_paragraph()\n",
    "        paragraph.text = \"Appendices\"  # Add slide title as bullet point\n",
    "        paragraph.font.size = Pt(20)\n",
    "        paragraph.font.color.rgb = RGBColor(0, 0, 0)  # Black\n",
    "    \n",
    "    # Move Outline Slide to position 2 (after the Title Slide)\n",
    "    xml_slides = prs.slides._sldIdLst  # Access slide list\n",
    "    xml_slides.insert(1, xml_slides[-1])  # Move last slide to index 1 (second position)\n",
    "    \n",
    "    prs.save(output_pptx)\n",
    "    print(f\"PowerPoint file '{output_pptx}' has been created successfully with justified bullet points!\")\n"
   ]
  },
  {
   "cell_type": "code",
   "execution_count": null,
   "metadata": {},
   "outputs": [
    {
     "ename": "KeyError",
     "evalue": "'no placeholder on this slide with idx == 1'",
     "output_type": "error",
     "traceback": [
      "\u001b[0;31m---------------------------------------------------------------------------\u001b[0m\n",
      "\u001b[0;31mKeyError\u001b[0m                                  Traceback (most recent call last)\n",
      "Cell \u001b[0;32mIn[8], line 6\u001b[0m\n",
      "\u001b[1;32m      3\u001b[0m pptx_filename \u001b[38;5;241m=\u001b[39m \u001b[38;5;124m\"\u001b[39m\u001b[38;5;124mbiodiversity.pptx\u001b[39m\u001b[38;5;124m\"\u001b[39m  \u001b[38;5;66;03m# Output PowerPoint file\u001b[39;00m\n",
      "\u001b[1;32m      4\u001b[0m pptx_template \u001b[38;5;241m=\u001b[39m \u001b[38;5;124m\"\u001b[39m\u001b[38;5;124mmyPPT_template.pptx\u001b[39m\u001b[38;5;124m\"\u001b[39m\n",
      "\u001b[0;32m----> 6\u001b[0m \u001b[43mcreate_ppt_from_md\u001b[49m\u001b[43m(\u001b[49m\u001b[43mmd_filename\u001b[49m\u001b[43m,\u001b[49m\u001b[43m \u001b[49m\u001b[43mpptx_filename\u001b[49m\u001b[43m,\u001b[49m\u001b[43m \u001b[49m\u001b[43mpptx_template\u001b[49m\u001b[43m)\u001b[49m\n",
      "\n",
      "Cell \u001b[0;32mIn[7], line 24\u001b[0m, in \u001b[0;36mcreate_ppt_from_md\u001b[0;34m(md_file, output_pptx, template_pptx)\u001b[0m\n",
      "\u001b[1;32m     22\u001b[0m slide \u001b[38;5;241m=\u001b[39m prs\u001b[38;5;241m.\u001b[39mslides\u001b[38;5;241m.\u001b[39madd_slide(prs\u001b[38;5;241m.\u001b[39mslide_layouts[\u001b[38;5;241m0\u001b[39m])\n",
      "\u001b[1;32m     23\u001b[0m title_placeholder \u001b[38;5;241m=\u001b[39m slide\u001b[38;5;241m.\u001b[39mshapes\u001b[38;5;241m.\u001b[39mtitle\n",
      "\u001b[0;32m---> 24\u001b[0m subtitle_placeholder \u001b[38;5;241m=\u001b[39m \u001b[43mslide\u001b[49m\u001b[38;5;241;43m.\u001b[39;49m\u001b[43mplaceholders\u001b[49m\u001b[43m[\u001b[49m\u001b[38;5;241;43m1\u001b[39;49m\u001b[43m]\u001b[49m\n",
      "\u001b[1;32m     26\u001b[0m title_placeholder\u001b[38;5;241m.\u001b[39mtext \u001b[38;5;241m=\u001b[39m title\n",
      "\u001b[1;32m     27\u001b[0m subtitle_placeholder\u001b[38;5;241m.\u001b[39mtext \u001b[38;5;241m=\u001b[39m \u001b[38;5;124m\"\u001b[39m\u001b[38;5;124m\"\u001b[39m\n",
      "\n",
      "File \u001b[0;32m~/python_projects/GenPPT/.pixi/envs/default/lib/python3.13/site-packages/pptx/shapes/shapetree.py:791\u001b[0m, in \u001b[0;36mSlidePlaceholders.__getitem__\u001b[0;34m(self, idx)\u001b[0m\n",
      "\u001b[1;32m    789\u001b[0m     \u001b[38;5;28;01mif\u001b[39;00m e\u001b[38;5;241m.\u001b[39mph_idx \u001b[38;5;241m==\u001b[39m idx:\n",
      "\u001b[1;32m    790\u001b[0m         \u001b[38;5;28;01mreturn\u001b[39;00m SlideShapeFactory(e, \u001b[38;5;28mself\u001b[39m)\n",
      "\u001b[0;32m--> 791\u001b[0m \u001b[38;5;28;01mraise\u001b[39;00m \u001b[38;5;167;01mKeyError\u001b[39;00m(\u001b[38;5;124m\"\u001b[39m\u001b[38;5;124mno placeholder on this slide with idx == \u001b[39m\u001b[38;5;132;01m%d\u001b[39;00m\u001b[38;5;124m\"\u001b[39m \u001b[38;5;241m%\u001b[39m idx)\n",
      "\n",
      "\u001b[0;31mKeyError\u001b[0m: 'no placeholder on this slide with idx == 1'"
     ]
    }
   ],
   "source": [
    "\n",
    "# Example usage\n",
    "md_filename = \"slides.md\"  # Your Markdown file\n",
    "pptx_filename = \"biodiversity.pptx\"  # Output PowerPoint file\n",
    "pptx_template = \"myPPT_template.pptx\"\n",
    "\n",
    "create_ppt_from_md(md_filename, pptx_filename, pptx_template)\n"
   ]
  },
  {
   "cell_type": "code",
   "execution_count": null,
   "metadata": {},
   "outputs": [],
   "source": [
    "prs_def =  Presentation()"
   ]
  },
  {
   "cell_type": "code",
   "execution_count": null,
   "metadata": {},
   "outputs": [],
   "source": [
    "prs_cust = Presentation(pptx_template)"
   ]
  }
 ],
 "metadata": {
  "kernelspec": {
   "display_name": "autoppt",
   "language": "python",
   "name": "python3"
  },
  "language_info": {
   "codemirror_mode": {
    "name": "ipython",
    "version": 3
   },
   "file_extension": ".py",
   "mimetype": "text/x-python",
   "name": "python",
   "nbconvert_exporter": "python",
   "pygments_lexer": "ipython3",
   "version": "3.10.14"
  }
 },
 "nbformat": 4,
 "nbformat_minor": 2
}
