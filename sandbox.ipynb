{
 "cells": [
  {
   "cell_type": "code",
   "execution_count": 880,
   "metadata": {},
   "outputs": [],
   "source": [
    "from datetime import datetime\n",
    "from typing import Iterable, Tuple\n",
    "\n",
    "from pptx import Presentation\n"
   ]
  },
  {
   "cell_type": "code",
   "execution_count": 881,
   "metadata": {},
   "outputs": [],
   "source": [
    "ppt_template_path = \"C:/Users/hamada.saleh/Desktop/myPPT_template.pptx\""
   ]
  },
  {
   "cell_type": "code",
   "execution_count": 882,
   "metadata": {},
   "outputs": [],
   "source": [
    "# Helpers\n",
    "def read_pptx(filename):\n",
    "    \"\"\"\n",
    "    Read a PowerPoint presentation (.pptx) file and return the presentation object.\n",
    "\n",
    "    Parameters:\n",
    "    - filename (str): The name of the PowerPoint (.pptx) file to read.\n",
    "\n",
    "    Returns:\n",
    "    - prs (Presentation): The presentation object.\n",
    "    \"\"\"\n",
    "    # Create a presentation object\n",
    "    prs = Presentation(filename)\n",
    "\n",
    "    return prs\n",
    "\n",
    "\n",
    "def get_layout_mapping(prs) -> dict:\n",
    "    \"\"\"\n",
    "    This function returns a dictionary mapping slide layout names to their indices.\n",
    "\n",
    "    Parameters:\n",
    "    - prs (Presentation): The presentation object to extract slide layouts from.\n",
    "\n",
    "    Returns:\n",
    "    - lay2idx (dict): A dictionary where the keys are the names of slide layouts and the values are their indices in the presentation.\n",
    "    \"\"\"\n",
    "    # Mapping between slide layout names and indices\n",
    "    lay2idx = {slide_layout.name: i for i, slide_layout in enumerate(prs.slide_layouts)}\n",
    "    return lay2idx\n",
    "\n",
    "\n",
    "def get_slide_and_shapes(\n",
    "    name: str, prs: \"Presentation\", lay2idx: dict\n",
    ") -> Tuple[\"Presentation\", dict]:\n",
    "    \"\"\"\n",
    "    This function gets a slide given a text and shapes within it.\n",
    "\n",
    "    Parameters:\n",
    "    prs (Presentation): The PowerPoint presentation object.\n",
    "    text (str): The text to search for in the presentation.\n",
    "\n",
    "    Returns:\n",
    "    slide (Slide): The slide object containing the text.\n",
    "    \"\"\"\n",
    "    # Target slide id\n",
    "    layout_id = lay2idx[name]\n",
    "    # Target slide layout\n",
    "    layout = prs.slide_layouts[layout_id]\n",
    "    # Target slide\n",
    "    slide = prs.slides.add_slide(layout)\n",
    "    # Mapping between target slide shapes and indices\n",
    "    shape2idx = {s.name: i for i, s in enumerate(slide.shapes)}\n",
    "    return slide, shape2idx\n",
    "\n",
    "\n",
    "def add_title(title: str, slide, title_id: int) -> None:\n",
    "    \"\"\"\n",
    "    Add a title to a given slide.\n",
    "\n",
    "    Parameters:\n",
    "    - slide (pptx.slides.Slide): The slide to which the title will be added.\n",
    "    - title (str): The text of the title.\n",
    "\n",
    "    Returns:\n",
    "    - None: This function does not return any value. It modifies the slide object.\n",
    "    \"\"\"\n",
    "    title_shape = slide.shapes[title_id]\n",
    "    title_shape.text = title\n",
    "\n",
    "\n",
    "def set_title_slide(\n",
    "    prs: \"Presentation\", title: str, subtitle: str, date: str\n",
    ") -> \"Presentation\":\n",
    "    \"\"\"\n",
    "    This function sets the title slide of a PowerPoint presentation.\n",
    "\n",
    "    Parameters:\n",
    "    prs (Presentation): The presentation object to which the title slide will be added.\n",
    "    title (str): The main title of the presentation.\n",
    "    subtitle (str): The subtitle of the presentation.\n",
    "    date (str): The date to be displayed on the title slide.\n",
    "\n",
    "    Returns:\n",
    "    prs (Presentation): The updated presentation object with the added title slide.\n",
    "\n",
    "    Note:\n",
    "    - The function assumes that the presentation template has a title slide layout at index 0.\n",
    "    - The function accesses the shapes of the title slide by their index. This may not work if the\n",
    "      placeholder names from the layout are reset when the actual slide is instantiated.\n",
    "    \"\"\"\n",
    "    # Title slide layout\n",
    "    title_slide_layout = prs.slide_layouts[0]\n",
    "\n",
    "    # Add a title slide based on the title slide layout\n",
    "    title_slide = prs.slides.add_slide(title_slide_layout)\n",
    "\n",
    "    # TODO: Placeholder names from layout seem to be reset\n",
    "    # TODO: when actual slide is instantiated\n",
    "    # Accessing shapes by index (assuming placeholders are not renamed)\n",
    "    title_shape0 = title_slide.shapes[0]\n",
    "    title_shape1 = title_slide.shapes[1]\n",
    "    title_shape2 = title_slide.shapes[2]\n",
    "\n",
    "    # Set the text for each shape\n",
    "    title_shape0.text = date\n",
    "    title_shape1.text = title\n",
    "    title_shape2.text = subtitle\n",
    "\n",
    "    return prs\n",
    "\n",
    "\n",
    "def set_toc(prs, toc_id, toc_title, toc_content) -> None:\n",
    "    \"\"\"\n",
    "    This function sets the table of contents (TOC) slide in a PowerPoint presentation.\n",
    "\n",
    "    Parameters:\n",
    "    prs (Presentation): The presentation object to which the TOC slide will be added.\n",
    "    toc_id (int): The index of the slide layout for the TOC slide.\n",
    "    toc_title (str): The title of the TOC slide.\n",
    "    toc_content (list[str]): A list of strings representing the content of the TOC.\n",
    "\n",
    "    Returns:\n",
    "    prs (Presentation): The updated presentation object with the added TOC slide.\n",
    "\n",
    "    Note:\n",
    "    - The function assumes that the presentation template has a slide layout for the TOC slide.\n",
    "    - The function accesses the shapes of the TOC slide by their index. This may not work if the\n",
    "      placeholder names from the layout are reset when the actual slide is instantiated.\n",
    "    \"\"\"\n",
    "    # TOC layout\n",
    "    toc_layout = prs.slide_layouts[toc_id]\n",
    "\n",
    "    # Create & add TOC slide\n",
    "    toc_slide = prs.slides.add_slide(toc_layout)\n",
    "\n",
    "    # TODO: move somewhere else\n",
    "    # Mapping between slide shapes and indices\n",
    "    shape2idx = {s.name: i for i, s in enumerate(toc_slide.shapes)}\n",
    "\n",
    "    # Add title to TOC slide\n",
    "    toc_title_id = shape2idx[\"Title 2\"]\n",
    "    add_title(title=toc_title, slide=toc_slide, title_id=toc_title_id)\n",
    "\n",
    "    # Populate table of contents with section names\n",
    "    toc_content_id = shape2idx[\"Text Placeholder 1\"]\n",
    "    toc_content_shape = toc_slide.shapes[toc_content_id]\n",
    "\n",
    "    toc_text_frame = toc_content_shape.text_frame\n",
    "\n",
    "    # Populate table of contents with section names\n",
    "    p = toc_text_frame.paragraphs[0]\n",
    "    p.text = toc_content[0]\n",
    "\n",
    "    for para_str in toc_content[1:]:\n",
    "        p = toc_text_frame.add_paragraph()\n",
    "        p.text = para_str\n",
    "\n",
    "    return prs\n",
    "\n",
    "\n",
    "# def add_image_and_text_slide(prs, image_path, title, content):\n",
    "#     \"\"\"\n",
    "#     This function adds a new slide to a PowerPoint presentation with an image on the left and text on the right.\n",
    "\n",
    "#     Parameters:\n",
    "#     prs (Presentation): The presentation object to which the new slide will be added.\n",
    "#     image_path (str): The path to the image file to be added to the slide.\n",
    "#     title (str): The title of the slide.\n",
    "#     content (str): The text content to be added to the slide.\n",
    "\n",
    "#     Returns:\n",
    "#     None: This function does not return any value. It modifies the presentation object.\n",
    "\n",
    "#     Note:\n",
    "#     - This function assumes that the presentation template has a slide layout with a picture placeholder.\n",
    "#     - The function uses the pptx library to manipulate the PowerPoint presentation.\n",
    "#     \"\"\"\n",
    "\n",
    "#     # Choose a slide layout with content and picture placeholder\n",
    "#     slide_layout = prs.slide_layouts[\n",
    "#         5\n",
    "#     ]  # 5 corresponds to 'Title Slide with Picture Placeholder'\n",
    "\n",
    "#     # Add the new slide to the presentation\n",
    "#     slide = prs.slides.add_slide(slide_layout)\n",
    "\n",
    "#     # Set title\n",
    "#     title_shape = slide.shapes.title\n",
    "#     title_shape.text = title\n",
    "\n",
    "#     # Add image on the left side\n",
    "#     left_inch = Inches(0.5)\n",
    "#     top_inch = Inches(1.5)\n",
    "#     pic = slide.shapes.add_picture(image_path, left_inch, top_inch, width=Inches(4))\n",
    "\n",
    "#     # Add text on the right side\n",
    "#     text_box = slide.shapes.add_textbox(Inches(5), top_inch, Inches(3), Inches(5))\n",
    "#     text_frame = text_box.text_frame\n",
    "#     p = text_frame.add_paragraph()\n",
    "#     p.text = content\n",
    "#     p.alignment = PP_ALIGN.LEFT\n",
    "#     p.font.size = Pt(18)\n",
    "\n",
    "\n",
    "def set_bullet_points(bp_dict: Iterable, text_frame: \"Text Placeholder\") -> None:\n",
    "    \"\"\"\n",
    "    This function populates a text frame with bullet points based on a given dictionary.\n",
    "\n",
    "    Parameters:\n",
    "    bp_dict (Iterable): A dictionary containing bullet point keys and values.\n",
    "    text_frame (TextFrame): The text frame where the bullet points will be added.\n",
    "\n",
    "    Returns:\n",
    "    None: This function does not return any value. It modifies the text frame directly.\n",
    "    \"\"\"\n",
    "    for i, (k, v) in enumerate(bp_dict.items()):\n",
    "        if i == 0:\n",
    "            p = text_frame.paragraphs[0]\n",
    "        else:\n",
    "            p = text_frame.add_paragraph()\n",
    "        p.level = 0\n",
    "\n",
    "        # Add dataset feature in bold\n",
    "        run = p.add_run()\n",
    "        run.text = f\"{k}: \"\n",
    "        run.font.bold = True\n",
    "\n",
    "        # Add dataset feature content\n",
    "        if isinstance(v, str):\n",
    "            run = p.add_run()\n",
    "            run.text = v\n",
    "        elif isinstance(v, list):\n",
    "            for i, item in enumerate(v):\n",
    "                p = text_frame.add_paragraph()\n",
    "                p.text = item\n",
    "                p.level = 1\n",
    "\n",
    "\n",
    "def set_img(\n",
    "    slide: \"Slide\", img_path: str, placedholder_name: str, shape2idx: dict\n",
    ") -> None:\n",
    "    \"\"\"\n",
    "    This function inserts an image into a PowerPoint image placeholder.\n",
    "\n",
    "    Parameters:\n",
    "    - slide (Slide): The slide to which the image will be added.\n",
    "    - img_path (str): The path to the image file to be added to the slide.\n",
    "    - placedholder_name (str): The name of the image placeholder in the slide layout.\n",
    "    - shape2idx (dict): A dictionary mapping shape names to their indices in the slide.\n",
    "\n",
    "    Returns:\n",
    "    None: This function does not return any value. It modifies the slide object directly.\n",
    "\n",
    "    Note:\n",
    "    - This function assumes that the presentation template has an image placeholder with the given name.\n",
    "    - The function uses the pptx library to manipulate the PowerPoint presentation.\n",
    "    \"\"\"\n",
    "    pp_id = shape2idx[placedholder_name]\n",
    "    image_shape = slide.shapes[pp_id]\n",
    "    img = image_shape.insert_picture(img_path)\n",
    "\n",
    "\n",
    "def get_text_frame(slide, placeholder_name, shape2idx):\n",
    "    \"\"\"\n",
    "    This function returns the text frame of a PowerPoint placeholder.\n",
    "\n",
    "    Parameters:\n",
    "    - slide (pptx.slides.Slide): The slide containing the specified placeholder.\n",
    "    - placeholder_name (str): The name of the text placeholder within the slide.\n",
    "    - shape2idx (dict): A dictionary mapping shape names to their indices in the slide.\n",
    "\n",
    "    Returns:\n",
    "    - text_frame (pptx.slides.shapes.TextPlaceholder): The text frame of the specified placeholder.\n",
    "\n",
    "    This function retrieves the text frame associated with a given text placeholder within a slide. It uses the provided dictionary `shape2idx` to map the names of the slide shapes to their indices, allowing for efficient retrieval of the desired shape.\n",
    "\n",
    "    Example usage:\n",
    "\n",
    "    ```python\n",
    "    slide = prs.slides[0]  # Assuming prs is the presentation object\n",
    "    placeholder_name = \"Text Placeholder 1\"\n",
    "    shape2idx = {s.name: i for i, s in enumerate(slide.shapes)}\n",
    "    text_frame = get_text_frame(slide, placeholder_name, shape2idx)\n",
    "    ```\n",
    "    \"\"\"\n",
    "    pp_id = shape2idx[placeholder_name]\n",
    "    text_shape = slide.shapes[pp_id]\n",
    "    text_frame = text_shape.text_frame\n",
    "    return text_frame"
   ]
  },
  {
   "cell_type": "markdown",
   "metadata": {},
   "source": [
    "[Modeling the spatial dependence of floods](https://hess.copernicus.org/articles/23/107/2019/hess-23-107-2019.pdf)"
   ]
  },
  {
   "cell_type": "markdown",
   "metadata": {},
   "source": [
    "# Read powerpoint template file"
   ]
  },
  {
   "cell_type": "code",
   "execution_count": 883,
   "metadata": {},
   "outputs": [],
   "source": [
    "# Load PPT template\n",
    "prs = read_pptx(ppt_template_path)\n",
    "# Map PPT template slides to indices for convenience\n",
    "lay2idx = get_layout_mapping(prs=prs)"
   ]
  },
  {
   "cell_type": "code",
   "execution_count": 884,
   "metadata": {},
   "outputs": [
    {
     "data": {
      "text/plain": [
       "{'Titre': 0,\n",
       " 'Section': 1,\n",
       " 'Goals': 2,\n",
       " 'TOC': 3,\n",
       " 'Bullet points + Image': 4,\n",
       " 'Contenu classique': 5,\n",
       " 'Contenu classique avec note': 6,\n",
       " '2 contenus': 7,\n",
       " '2 contenus + couleur droite': 8,\n",
       " '1_2 contenus + 2 couleurs': 9,\n",
       " '2 contenus + 2 couleurs': 10,\n",
       " 'Graphe et commentaire': 11,\n",
       " '2 Graphes et commentaires': 12,\n",
       " '2 Graphes et 1 commentaire': 13,\n",
       " 'Titre seul': 14,\n",
       " 'Conclusion': 15,\n",
       " 'Annexe': 16}"
      ]
     },
     "execution_count": 884,
     "metadata": {},
     "output_type": "execute_result"
    }
   ],
   "source": [
    "lay2idx"
   ]
  },
  {
   "cell_type": "markdown",
   "metadata": {},
   "source": [
    "## Title slide"
   ]
  },
  {
   "cell_type": "code",
   "execution_count": 885,
   "metadata": {},
   "outputs": [],
   "source": [
    "# Presentation title\n",
    "TITLE = \"Modelling flood-related physical risks\"\n",
    "# Presentation subtitle\n",
    "SUBTITLE = (\n",
    "    \"The importance of integrating spatial dependence for reliable damage estimates\"\n",
    ")\n",
    "# Get the current date\n",
    "current_date = datetime.now()\n",
    "# Format the date as DD/MM/YYYY\n",
    "formatted_date = current_date.strftime(\"%d/%m/%Y\")"
   ]
  },
  {
   "cell_type": "code",
   "execution_count": 886,
   "metadata": {},
   "outputs": [
    {
     "data": {
      "text/plain": [
       "<pptx.presentation.Presentation at 0x26c2c4f7700>"
      ]
     },
     "execution_count": 886,
     "metadata": {},
     "output_type": "execute_result"
    }
   ],
   "source": [
    "set_title_slide(prs=prs, title=TITLE, subtitle=SUBTITLE, date=formatted_date)"
   ]
  },
  {
   "cell_type": "markdown",
   "metadata": {},
   "source": [
    "# Objectives/Motivation slide"
   ]
  },
  {
   "cell_type": "code",
   "execution_count": 887,
   "metadata": {},
   "outputs": [],
   "source": [
    "# \"Goals\" slide\n",
    "goals_id = lay2idx[\"Goals\"]\n",
    "# \"Goals\" slide layout\n",
    "goals_layout = prs.slide_layouts[goals_id]\n",
    "# Instantiate \"Goals\" slide & add to presentation\n",
    "goals_slide = prs.slides.add_slide(goals_layout)\n",
    "# Mapping between slide shapes and indices\n",
    "shape2idx = {s.name: i for i, s in enumerate(goals_slide.shapes)}\n",
    "# Add slide title\n",
    "title_id = shape2idx[\"Title 1\"]\n",
    "title = (\n",
    "    \"We investigate the impact of future flood hazards on existing physical assets, \\\n",
    "thanks to some of the most recent global and open-source datasets\"\n",
    ")\n",
    "add_title(title=title, slide=goals_slide, title_id=title_id)\n",
    "\n",
    "# Add text to text placedholders\n",
    "text_placeholders = [\n",
    "    \"Text Placeholder 3\",\n",
    "    \"Text Placeholder 2\",\n",
    "    \"Text Placeholder 6\",\n",
    "    \"Text Placeholder 8\",\n",
    "]\n",
    "# Input: goals, challenges, ..., ...\n",
    "contents = {\n",
    "    \"Goal\": \"estimating the impact of flood hazards on existing physical assets\",\n",
    "    \"Challenges\": \"current climate intensity projections do not account for the interdependence between hazards\",\n",
    "    \"Approach\": \"we resort to Extreme Value Theory, and copulas in particular, to model the dependence between extreme flood events\",\n",
    "}\n",
    "\n",
    "contents_list = list(contents.items())\n",
    "\n",
    "for i, text_placeholder in enumerate(text_placeholders):\n",
    "    text_id = shape2idx[text_placeholder]\n",
    "    text_shape = goals_slide.shapes[text_id]\n",
    "    text_frame = text_shape.text_frame\n",
    "    # Populate table of contents with section names\n",
    "    p = text_frame.paragraphs[0]\n",
    "    try:\n",
    "        k, v = contents_list[i]\n",
    "    except IndexError:\n",
    "        k, v = \"\", \"\"\n",
    "    p.text = f\"{k}: {v}\"\n",
    "\n",
    "# Icons\n",
    "goals_logo_path = (\n",
    "    \"C:/Users/hamada.saleh/Documents/Python Scripts/AutoPPT/flood_pres/goal_logo.png\"\n",
    ")\n",
    "challenges_logo_path = \"C:/Users/hamada.saleh/Documents/Python Scripts/AutoPPT/flood_pres/challenges_logo.png\"\n",
    "solution_logo_path = \"C:/Users/hamada.saleh/Documents/Python Scripts/AutoPPT/flood_pres/solution_logo.png\"\n",
    "set_img(\n",
    "    slide=goals_slide,\n",
    "    img_path=goals_logo_path,\n",
    "    placedholder_name=\"Picture Placeholder 4\",\n",
    "    shape2idx=shape2idx,\n",
    ")\n",
    "set_img(\n",
    "    slide=goals_slide,\n",
    "    img_path=challenges_logo_path,\n",
    "    placedholder_name=\"Picture Placeholder 5\",\n",
    "    shape2idx=shape2idx,\n",
    ")\n",
    "set_img(\n",
    "    slide=goals_slide,\n",
    "    img_path=solution_logo_path,\n",
    "    placedholder_name=\"Picture Placeholder 7\",\n",
    "    shape2idx=shape2idx,\n",
    ")"
   ]
  },
  {
   "cell_type": "code",
   "execution_count": 888,
   "metadata": {},
   "outputs": [
    {
     "data": {
      "text/plain": [
       "{'Title 1': 0,\n",
       " 'Text Placeholder 2': 1,\n",
       " 'Text Placeholder 3': 2,\n",
       " 'Picture Placeholder 4': 3,\n",
       " 'Picture Placeholder 5': 4,\n",
       " 'Text Placeholder 6': 5,\n",
       " 'Picture Placeholder 7': 6,\n",
       " 'Text Placeholder 8': 7}"
      ]
     },
     "execution_count": 888,
     "metadata": {},
     "output_type": "execute_result"
    }
   ],
   "source": [
    "shape2idx"
   ]
  },
  {
   "cell_type": "markdown",
   "metadata": {},
   "source": [
    "# Outline/TOC slide"
   ]
  },
  {
   "cell_type": "code",
   "execution_count": 889,
   "metadata": {},
   "outputs": [
    {
     "data": {
      "text/plain": [
       "<pptx.presentation.Presentation at 0x26c2c4f7700>"
      ]
     },
     "execution_count": 889,
     "metadata": {},
     "output_type": "execute_result"
    }
   ],
   "source": [
    "# Slide \"Sommaire\"\n",
    "toc_id = lay2idx[\"TOC\"]\n",
    "# TOC title\n",
    "toc_title = \"Table of contents\"\n",
    "\n",
    "toc_content = [\n",
    "    \"Datasets 0. Physical assets: Climate Trace 1. Flood hazards: Global Flood Database\",\n",
    "    \"Extreme value theory: modelling tail dependencies between flood events. 0. Intuition behind flood modelling 1. Theoretical framework 2. Application\",\n",
    "    \"Results\",\n",
    "    \"Conclusion & Next steps\",\n",
    "]\n",
    "set_toc(prs=prs, toc_id=toc_id, toc_title=toc_title, toc_content=toc_content)"
   ]
  },
  {
   "cell_type": "markdown",
   "metadata": {},
   "source": [
    "# Add bullets points + Image slide"
   ]
  },
  {
   "cell_type": "markdown",
   "metadata": {},
   "source": [
    "## Dataset presentation slide"
   ]
  },
  {
   "cell_type": "code",
   "execution_count": 890,
   "metadata": {},
   "outputs": [],
   "source": [
    "# Get \"Bullet points + Image\" slide\n",
    "name = \"Bullet points + Image\"\n",
    "content_slide, shape2idx = get_slide_and_shapes(name=name, prs=prs, lay2idx=lay2idx)"
   ]
  },
  {
   "cell_type": "markdown",
   "metadata": {},
   "source": [
    "0. Dataset title"
   ]
  },
  {
   "cell_type": "code",
   "execution_count": 891,
   "metadata": {},
   "outputs": [],
   "source": [
    "slide_title_id = shape2idx[\"Title 3\"]\n",
    "# Populate slide title\n",
    "slide_title = \"The Global Flood Database provides 912 historical floods between 2000 and 2018 and allows to estimate the dependence between flood events from regional river networks\"\n",
    "slide_title_shape = content_slide.shapes[slide_title_id]\n",
    "slide_title_shape.text = slide_title"
   ]
  },
  {
   "cell_type": "markdown",
   "metadata": {},
   "source": [
    "1. Dataset features"
   ]
  },
  {
   "cell_type": "code",
   "execution_count": 892,
   "metadata": {},
   "outputs": [],
   "source": [
    "feat_keys = [\"Sample size\", \"Geographic coverage\", \"Time coverage\", \"Features\"]"
   ]
  },
  {
   "cell_type": "code",
   "execution_count": 893,
   "metadata": {},
   "outputs": [
    {
     "data": {
      "text/plain": [
       "{'Text Placeholder 1': 0,\n",
       " 'Text Placeholder 2': 1,\n",
       " 'Title 3': 2,\n",
       " 'Picture Placeholder 4': 3,\n",
       " 'Picture Placeholder 5': 4}"
      ]
     },
     "execution_count": 893,
     "metadata": {},
     "output_type": "execute_result"
    }
   ],
   "source": [
    "shape2idx"
   ]
  },
  {
   "cell_type": "code",
   "execution_count": 894,
   "metadata": {},
   "outputs": [],
   "source": [
    "# Set \"Bullet points\" icon\n",
    "icon_path = \"C:/Users/hamada.saleh/Documents/Python Scripts/AutoPPT/flood_pres/global_flood_database_logo.png\"\n",
    "set_img(\n",
    "    slide=content_slide,\n",
    "    img_path=icon_path,\n",
    "    placedholder_name=\"Picture Placeholder 5\",\n",
    "    shape2idx=shape2idx,\n",
    ")\n",
    "\n",
    "# Set \"Bullet points\" title\n",
    "bp_title_id = shape2idx[\"Text Placeholder 2\"]\n",
    "bp_title_shape = content_slide.shapes[bp_title_id]\n",
    "# Populate title shape with title\n",
    "title = \"Global Flood Database\"\n",
    "db_source = \"https://global-flood-database.cloudtostreet.ai/#interactive-map\"\n",
    "p = bp_title_shape.text_frame.paragraphs[0]\n",
    "r = p.add_run()\n",
    "r.text = title\n",
    "# Add a hyperlink to the text\n",
    "hlink = r.hyperlink\n",
    "hlink.address = db_source"
   ]
  },
  {
   "cell_type": "markdown",
   "metadata": {},
   "source": [
    "# Set \"Bullet points\" content"
   ]
  },
  {
   "cell_type": "code",
   "execution_count": 895,
   "metadata": {},
   "outputs": [],
   "source": [
    "global_flood_database_bp = {\n",
    "    \"Sample size\": \"913 events\",\n",
    "    \"Geographic coverage\": \"169 countries\",\n",
    "    \"Time coverage\": \"2000 to 2018\",\n",
    "    \"Main features\": [\n",
    "        \"Provides spatial flood extent, duration, and magnitude.\",\n",
    "        \"Offers historic maps to inform current and future vulnerability hot spots.\",\n",
    "    ],\n",
    "}\n"
   ]
  },
  {
   "cell_type": "code",
   "execution_count": 896,
   "metadata": {},
   "outputs": [],
   "source": [
    "text_frame = get_text_frame(\n",
    "    slide=content_slide, placeholder_name=\"Text Placeholder 1\", shape2idx=shape2idx\n",
    ")\n",
    "set_bullet_points(bp_dict=global_flood_database_bp, text_frame=text_frame)\n"
   ]
  },
  {
   "cell_type": "markdown",
   "metadata": {},
   "source": [
    "2. Image"
   ]
  },
  {
   "cell_type": "code",
   "execution_count": 897,
   "metadata": {},
   "outputs": [
    {
     "data": {
      "text/plain": [
       "{'Text Placeholder 1': 0,\n",
       " 'Text Placeholder 2': 1,\n",
       " 'Title 3': 2,\n",
       " 'Picture Placeholder 4': 3,\n",
       " 'Picture Placeholder 5': 4}"
      ]
     },
     "execution_count": 897,
     "metadata": {},
     "output_type": "execute_result"
    }
   ],
   "source": [
    "shape2idx"
   ]
  },
  {
   "cell_type": "code",
   "execution_count": 898,
   "metadata": {},
   "outputs": [],
   "source": [
    "# Example image of flood in Pakistan from Global Flood Database\n",
    "img_path = \"C:/Users/hamada.saleh/Documents/Python Scripts/AutoPPT/flood_pres/global_flood_database_pakistan_example.png\"\n",
    "set_img(\n",
    "    slide=content_slide,\n",
    "    img_path=img_path,\n",
    "    placedholder_name=\"Picture Placeholder 4\",\n",
    "    shape2idx=shape2idx,\n",
    ")"
   ]
  },
  {
   "cell_type": "markdown",
   "metadata": {},
   "source": [
    "# Conclusion/Next steps slide"
   ]
  },
  {
   "cell_type": "code",
   "execution_count": 899,
   "metadata": {},
   "outputs": [],
   "source": [
    "# \"Conclusion\" slide id\n",
    "ccl_id = lay2idx[\"Conclusion\"]\n",
    "# \"Conclusion\" slide layout\n",
    "ccl_layout = prs.slide_layouts[ccl_id]\n",
    "# \"Conclusion\" slide\n",
    "ccl_slide = prs.slides.add_slide(ccl_layout)\n",
    "# Mapping between slide shapes and indices\n",
    "shape2idx = {s.name: i for i, s in enumerate(ccl_slide.shapes)}\n",
    "# Add slide title\n",
    "title_id = shape2idx[\"Title 1\"]\n",
    "ccl_title = \"We develop a method for assessing the impact of flood hazards under future climate conditions and taking regional dependencies between river catchments into account.\"\n",
    "add_title(title=ccl_title, slide=ccl_slide, title_id=title_id)\n",
    "# Add text to text placedholders\n",
    "text_placeholders = [\n",
    "    \"Text Placeholder 2\",  # \"Next Steps\"\n",
    "    \"Text Placeholder 3\",  # \"Main Conclusions\"\n",
    "    \"Text Placeholder 4\",  # \"Main Achievements\"\n",
    "]\n",
    "\n",
    "# Bullet points list\n",
    "values = [\n",
    "    [\"How do physical impacts translate into financial impacts?\"],\n",
    "    [\"\"],\n",
    "    [\n",
    "        \"Module for matching large-scale asset-level datasets with global hazard maps.\",\n",
    "        \"Copula-based module for capturing tail dependencies between neighbouring river catchments.\",\n",
    "    ],\n",
    "]\n",
    "for i, text_placeholder in enumerate(text_placeholders):\n",
    "    text_id = shape2idx[text_placeholder]\n",
    "    text_shape = ccl_slide.shapes[text_id]\n",
    "    text_frame = text_shape.text_frame\n",
    "    # content\n",
    "    v = values[i]\n",
    "    # Populate table of contents with section names\n",
    "    p = text_frame.paragraphs[0]\n",
    "    p.text = v[0]\n",
    "    p.level = 0\n",
    "    if len(v) > 1:\n",
    "        for j in range(1, len(v)):\n",
    "            p = text_frame.add_paragraph()\n",
    "            p.text = v[j]\n",
    "            p.level = 0"
   ]
  },
  {
   "cell_type": "code",
   "execution_count": 900,
   "metadata": {},
   "outputs": [
    {
     "data": {
      "text/plain": [
       "{'Title 1': 0,\n",
       " 'Text Placeholder 2': 1,\n",
       " 'Text Placeholder 3': 2,\n",
       " 'Text Placeholder 4': 3}"
      ]
     },
     "execution_count": 900,
     "metadata": {},
     "output_type": "execute_result"
    }
   ],
   "source": [
    "shape2idx"
   ]
  },
  {
   "cell_type": "markdown",
   "metadata": {},
   "source": [
    "Set bullet points"
   ]
  },
  {
   "cell_type": "code",
   "execution_count": 901,
   "metadata": {},
   "outputs": [],
   "source": [
    "prs.save(\"pladifes.pptx\")"
   ]
  }
 ],
 "metadata": {
  "kernelspec": {
   "display_name": "autoppt",
   "language": "python",
   "name": "python3"
  },
  "language_info": {
   "codemirror_mode": {
    "name": "ipython",
    "version": 3
   },
   "file_extension": ".py",
   "mimetype": "text/x-python",
   "name": "python",
   "nbconvert_exporter": "python",
   "pygments_lexer": "ipython3",
   "version": "3.10.14"
  }
 },
 "nbformat": 4,
 "nbformat_minor": 2
}
