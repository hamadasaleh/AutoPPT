{
 "cells": [
  {
   "cell_type": "code",
   "execution_count": 135,
   "metadata": {},
   "outputs": [],
   "source": [
    "from pptx import Presentation\n",
    "import json\n",
    "from datetime import datetime\n"
   ]
  },
  {
   "cell_type": "code",
   "execution_count": 136,
   "metadata": {},
   "outputs": [],
   "source": [
    "ppt_template_path = \"C:/Users/hamada.saleh/Desktop/myPPT_template.pptx\""
   ]
  },
  {
   "cell_type": "code",
   "execution_count": 137,
   "metadata": {},
   "outputs": [],
   "source": [
    "# Helpers\n",
    "def read_pptx(filename):\n",
    "    \"\"\"\n",
    "    Read a PowerPoint presentation (.pptx) file and return the presentation object.\n",
    "\n",
    "    Parameters:\n",
    "    - filename (str): The name of the PowerPoint (.pptx) file to read.\n",
    "\n",
    "    Returns:\n",
    "    - prs (Presentation): The presentation object.\n",
    "    \"\"\"\n",
    "    # Create a presentation object\n",
    "    prs = Presentation(filename)\n",
    "\n",
    "    return prs\n",
    "def add_title(title: str, slide, title_id: int) -> None:\n",
    "    \"\"\"\n",
    "    Add a title to a given slide.\n",
    "\n",
    "    Parameters:\n",
    "    - slide (pptx.slides.Slide): The slide to which the title will be added.\n",
    "    - title (str): The text of the title.\n",
    "\n",
    "    Returns:\n",
    "    - None: This function does not return any value. It modifies the slide object.\n",
    "    \"\"\"\n",
    "    title_shape = slide.shapes[title_id]\n",
    "    title_shape.text = title"
   ]
  },
  {
   "cell_type": "markdown",
   "metadata": {},
   "source": [
    "[Modeling the spatial dependence of floods](https://hess.copernicus.org/articles/23/107/2019/hess-23-107-2019.pdf)"
   ]
  },
  {
   "cell_type": "markdown",
   "metadata": {},
   "source": [
    "# Read powerpoint template file"
   ]
  },
  {
   "cell_type": "code",
   "execution_count": 138,
   "metadata": {},
   "outputs": [],
   "source": [
    "prs = read_pptx(ppt_template_path)"
   ]
  },
  {
   "cell_type": "code",
   "execution_count": 139,
   "metadata": {},
   "outputs": [
    {
     "data": {
      "text/plain": [
       "['Titre',\n",
       " 'Section',\n",
       " 'Sommaire',\n",
       " 'Contenu classique',\n",
       " 'Contenu classique avec note',\n",
       " '2 contenus',\n",
       " '2 contenus + couleur droite',\n",
       " '1_2 contenus + 2 couleurs',\n",
       " '2 contenus + 2 couleurs',\n",
       " 'Graphe et commentaire',\n",
       " '2 Graphes et commentaires',\n",
       " '2 Graphes et 1 commentaire',\n",
       " 'Titre seul',\n",
       " 'Annexe']"
      ]
     },
     "execution_count": 139,
     "metadata": {},
     "output_type": "execute_result"
    }
   ],
   "source": [
    "[slide_layout.name for slide_layout in prs.slide_layouts]"
   ]
  },
  {
   "cell_type": "code",
   "execution_count": 140,
   "metadata": {},
   "outputs": [],
   "source": [
    "# Access different types of slides\n",
    "layouts = prs.slide_layouts\n",
    "# Mapping between slide layout names and indices\n",
    "lay2idx = {slide_layout.name: i for i, slide_layout in enumerate(prs.slide_layouts)}"
   ]
  },
  {
   "cell_type": "markdown",
   "metadata": {},
   "source": [
    "## Title slide"
   ]
  },
  {
   "cell_type": "code",
   "execution_count": 141,
   "metadata": {},
   "outputs": [],
   "source": [
    "# Presentation title\n",
    "TITLE = \"Modelling flood-related physical risks\"\n",
    "# Presentation subtitle\n",
    "SUBTITLE = \"The importance of integrating spatial dependence for reliable estimates\""
   ]
  },
  {
   "cell_type": "code",
   "execution_count": 142,
   "metadata": {},
   "outputs": [],
   "source": [
    "# Title slide: modify title, subtitle and date\n",
    "ts_id = lay2idx[\"Titre\"]\n",
    "\n",
    "# Get the current date\n",
    "current_date = datetime.now()\n",
    "\n",
    "# Format the date as DD/MM/YYYY\n",
    "formatted_date = current_date.strftime(\"%d/%m/%Y\")\n",
    "\n",
    "slide = layouts[ts_id]"
   ]
  },
  {
   "cell_type": "code",
   "execution_count": 143,
   "metadata": {},
   "outputs": [
    {
     "name": "stdout",
     "output_type": "stream",
     "text": [
      "Rectangle 32\n",
      "Groupe 56\n",
      "Date\n",
      "Groupe 62\n",
      "ZoneTexte 1\n",
      "Image 7\n",
      "Espace réservé pour une image  10\n",
      "Title\n",
      "Subtitle\n"
     ]
    }
   ],
   "source": [
    "for s in slide.shapes:\n",
    "    print(s.name)"
   ]
  },
  {
   "cell_type": "code",
   "execution_count": 144,
   "metadata": {},
   "outputs": [],
   "source": [
    "slide_shapes = slide.shapes\n",
    "shape2idx = {s.name: i for i, s in enumerate(slide_shapes)}\n",
    "# indices\n",
    "title_id = shape2idx['Title']\n",
    "subtitle_id = shape2idx['Subtitle'] \n",
    "date_id = shape2idx['Date']\n",
    "\n",
    "# shapes\n",
    "title_shape = slide_shapes[title_id]\n",
    "substitle_shape = slide_shapes[subtitle_id]\n",
    "date_shape = slide_shapes[date_id]  \n",
    "title_shape.text = TITLE\n",
    "substitle_shape.text = SUBTITLE\n",
    "date_shape.text = formatted_date\n"
   ]
  },
  {
   "cell_type": "code",
   "execution_count": 145,
   "metadata": {},
   "outputs": [],
   "source": [
    "prs.save(\"pladifes.pptx\")"
   ]
  },
  {
   "cell_type": "markdown",
   "metadata": {},
   "source": [
    "## Content slide"
   ]
  },
  {
   "cell_type": "code",
   "execution_count": null,
   "metadata": {},
   "outputs": [],
   "source": [
    "# Get \"Contenu classique\" slide layout index\n",
    "cc_id = lay2idx[\"Contenu classique\"]\n",
    "# Create new slide\n",
    "slide = layouts[cc_id]\n",
    "# Mapping between slide shapes and indices\n",
    "shape2idx = {s.name: i for i, s in enumerate(slide.shapes)}"
   ]
  },
  {
   "cell_type": "code",
   "execution_count": null,
   "metadata": {},
   "outputs": [],
   "source": [
    "# index of title element\n",
    "title_id = shape2idx[\"Titre 1\"]\n",
    "\n",
    "# Define title\n",
    "title = \"Hello, World!\"\n",
    "# change title text\n",
    "add_title(title=title, slide=slide, title_id=title_id)\n",
    "prs.save(\"pladifes.pptx\")"
   ]
  },
  {
   "cell_type": "code",
   "execution_count": null,
   "metadata": {},
   "outputs": [],
   "source": [
    "print(dir(slide))"
   ]
  },
  {
   "cell_type": "code",
   "execution_count": null,
   "metadata": {},
   "outputs": [],
   "source": [
    "for s in slide.shapes:\n",
    "    print(s.name)"
   ]
  },
  {
   "cell_type": "code",
   "execution_count": null,
   "metadata": {},
   "outputs": [],
   "source": [
    "shape2idx"
   ]
  },
  {
   "cell_type": "code",
   "execution_count": null,
   "metadata": {},
   "outputs": [],
   "source": [
    "prs2 = Presentation()"
   ]
  },
  {
   "cell_type": "code",
   "execution_count": null,
   "metadata": {},
   "outputs": [],
   "source": [
    "slide = prs2.slide_layouts[1]\n",
    "prs2.slides.add_slide(slide)\n",
    "prs2.save(\"pladifes2.pptx\")"
   ]
  },
  {
   "cell_type": "code",
   "execution_count": null,
   "metadata": {},
   "outputs": [],
   "source": [
    "for s in slide.shapes:\n",
    "    print(s.name)"
   ]
  },
  {
   "cell_type": "code",
   "execution_count": null,
   "metadata": {},
   "outputs": [],
   "source": [
    "with open(\"slides.json\", 'r') as file:\n",
    "    data = json.load(file)"
   ]
  },
  {
   "cell_type": "code",
   "execution_count": null,
   "metadata": {},
   "outputs": [],
   "source": [
    "data"
   ]
  },
  {
   "cell_type": "code",
   "execution_count": null,
   "metadata": {},
   "outputs": [],
   "source": [
    "from pptx import Presentation\n",
    "from pptx.util import Inches, Pt\n",
    "from pptx.enum.text import PP_ALIGN\n",
    "\n",
    "def add_image_and_text_slide(prs, image_path, title, content):\n",
    "    # Choose a slide layout with content and picture placeholder\n",
    "    slide_layout = prs.slide_layouts[5]  # 5 corresponds to 'Title Slide with Picture Placeholder'\n",
    "\n",
    "    # Add the new slide to the presentation\n",
    "    slide = prs.slides.add_slide(slide_layout)\n",
    "\n",
    "    # Set title\n",
    "    title_shape = slide.shapes.title\n",
    "    title_shape.text = title\n",
    "\n",
    "    # Add image on the left side\n",
    "    left_inch = Inches(0.5)\n",
    "    top_inch = Inches(1.5)\n",
    "    pic = slide.shapes.add_picture(image_path, left_inch, top_inch, width=Inches(4))\n",
    "\n",
    "    # Add text on the right side\n",
    "    text_box = slide.shapes.add_textbox(Inches(5), top_inch, Inches(3), Inches(5))\n",
    "    text_frame = text_box.text_frame\n",
    "    p = text_frame.add_paragraph()\n",
    "    p.text = content\n",
    "    p.alignment = PP_ALIGN.LEFT\n",
    "    p.font.size = Pt(18)\n"
   ]
  },
  {
   "cell_type": "code",
   "execution_count": null,
   "metadata": {},
   "outputs": [],
   "source": []
  },
  {
   "cell_type": "code",
   "execution_count": null,
   "metadata": {},
   "outputs": [],
   "source": [
    "# Add a slide with image on the left and text on the right\n",
    "add_image_and_text_slide(prs, 'earth.jpg', 'Slide Title', 'Text content goes here.')\n",
    "# Save the presentation\n",
    "prs.save(\"slidego_pres.pptx\")"
   ]
  },
  {
   "cell_type": "code",
   "execution_count": null,
   "metadata": {},
   "outputs": [],
   "source": []
  }
 ],
 "metadata": {
  "kernelspec": {
   "display_name": "autoppt",
   "language": "python",
   "name": "python3"
  },
  "language_info": {
   "codemirror_mode": {
    "name": "ipython",
    "version": 3
   },
   "file_extension": ".py",
   "mimetype": "text/x-python",
   "name": "python",
   "nbconvert_exporter": "python",
   "pygments_lexer": "ipython3",
   "version": "3.10.14"
  }
 },
 "nbformat": 4,
 "nbformat_minor": 2
}
