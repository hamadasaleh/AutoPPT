{
 "cells": [
  {
   "cell_type": "code",
   "execution_count": 153,
   "metadata": {},
   "outputs": [],
   "source": [
    "from pptx import Presentation\n",
    "import json\n",
    "from datetime import datetime\n"
   ]
  },
  {
   "cell_type": "code",
   "execution_count": 154,
   "metadata": {},
   "outputs": [],
   "source": [
    "ppt_template_path = \"C:/Users/hamada.saleh/Desktop/myPPT_template.pptx\""
   ]
  },
  {
   "cell_type": "code",
   "execution_count": 155,
   "metadata": {},
   "outputs": [],
   "source": [
    "# Helpers\n",
    "def read_pptx(filename):\n",
    "    \"\"\"\n",
    "    Read a PowerPoint presentation (.pptx) file and return the presentation object.\n",
    "\n",
    "    Parameters:\n",
    "    - filename (str): The name of the PowerPoint (.pptx) file to read.\n",
    "\n",
    "    Returns:\n",
    "    - prs (Presentation): The presentation object.\n",
    "    \"\"\"\n",
    "    # Create a presentation object\n",
    "    prs = Presentation(filename)\n",
    "\n",
    "    return prs\n",
    "def add_title(title: str, slide, title_id: int) -> None:\n",
    "    \"\"\"\n",
    "    Add a title to a given slide.\n",
    "\n",
    "    Parameters:\n",
    "    - slide (pptx.slides.Slide): The slide to which the title will be added.\n",
    "    - title (str): The text of the title.\n",
    "\n",
    "    Returns:\n",
    "    - None: This function does not return any value. It modifies the slide object.\n",
    "    \"\"\"\n",
    "    title_shape = slide.shapes[title_id]\n",
    "    title_shape.text = title\n",
    "    \n",
    "def set_title_slide(prs: \"Presentation\", title: str, subtitle: str, date: str) -> \"Presentation\":\n",
    "    \"\"\"\n",
    "    This function sets the title slide of a PowerPoint presentation.\n",
    "\n",
    "    Parameters:\n",
    "    prs (Presentation): The presentation object to which the title slide will be added.\n",
    "    title (str): The main title of the presentation.\n",
    "    subtitle (str): The subtitle of the presentation.\n",
    "    date (str): The date to be displayed on the title slide.\n",
    "\n",
    "    Returns:\n",
    "    prs (Presentation): The updated presentation object with the added title slide.\n",
    "\n",
    "    Note:\n",
    "    - The function assumes that the presentation template has a title slide layout at index 0.\n",
    "    - The function accesses the shapes of the title slide by their index. This may not work if the\n",
    "      placeholder names from the layout are reset when the actual slide is instantiated.\n",
    "    \"\"\"\n",
    "    # Title slide layout\n",
    "    title_slide_layout = prs.slide_layouts[0]\n",
    "\n",
    "    # Add a title slide based on the title slide layout\n",
    "    title_slide = prs.slides.add_slide(title_slide_layout)\n",
    "\n",
    "    # TODO: Placeholder names from layout seem to be reset\n",
    "    # TODO: when actual slide is instantiated\n",
    "    # Accessing shapes by index (assuming placeholders are not renamed)\n",
    "    title_shape0 = title_slide.shapes[0]\n",
    "    title_shape1 = title_slide.shapes[1]\n",
    "    title_shape2 = title_slide.shapes[2]\n",
    "\n",
    "    # Set the text for each shape\n",
    "    title_shape0.text = date\n",
    "    title_shape1.text = title\n",
    "    title_shape2.text = subtitle\n",
    "\n",
    "    return prs"
   ]
  },
  {
   "cell_type": "markdown",
   "metadata": {},
   "source": [
    "[Modeling the spatial dependence of floods](https://hess.copernicus.org/articles/23/107/2019/hess-23-107-2019.pdf)"
   ]
  },
  {
   "cell_type": "code",
   "execution_count": 156,
   "metadata": {},
   "outputs": [],
   "source": [
    "# Presentation title\n",
    "TITLE = \"Modelling flood-related physical risks\"\n",
    "# Presentation subtitle\n",
    "SUBTITLE = \"The importance of integrating spatial dependence for reliable damage estimates\"\n",
    "\n",
    "# Get the current date\n",
    "current_date = datetime.now()\n",
    "\n",
    "# Format the date as DD/MM/YYYY\n",
    "formatted_date = current_date.strftime(\"%d/%m/%Y\")"
   ]
  },
  {
   "cell_type": "markdown",
   "metadata": {},
   "source": [
    "# Read powerpoint template file"
   ]
  },
  {
   "cell_type": "code",
   "execution_count": 157,
   "metadata": {},
   "outputs": [],
   "source": [
    "prs = read_pptx(ppt_template_path)"
   ]
  },
  {
   "cell_type": "code",
   "execution_count": 158,
   "metadata": {},
   "outputs": [
    {
     "data": {
      "text/plain": [
       "['Titre',\n",
       " 'Section',\n",
       " 'Sommaire',\n",
       " 'Contenu classique',\n",
       " 'Contenu classique avec note',\n",
       " '2 contenus',\n",
       " '2 contenus + couleur droite',\n",
       " '1_2 contenus + 2 couleurs',\n",
       " '2 contenus + 2 couleurs',\n",
       " 'Graphe et commentaire',\n",
       " '2 Graphes et commentaires',\n",
       " '2 Graphes et 1 commentaire',\n",
       " 'Titre seul',\n",
       " 'Annexe']"
      ]
     },
     "execution_count": 158,
     "metadata": {},
     "output_type": "execute_result"
    }
   ],
   "source": [
    "# Available slides in presentation template\n",
    "[slide_layout.name for slide_layout in prs.slide_layouts]"
   ]
  },
  {
   "cell_type": "markdown",
   "metadata": {},
   "source": [
    "## Title slide"
   ]
  },
  {
   "cell_type": "code",
   "execution_count": 159,
   "metadata": {},
   "outputs": [
    {
     "data": {
      "text/plain": [
       "<pptx.presentation.Presentation at 0x2c53fa626e0>"
      ]
     },
     "execution_count": 159,
     "metadata": {},
     "output_type": "execute_result"
    }
   ],
   "source": [
    "set_title_slide(prs=prs, title=TITLE, subtitle=SUBTITLE, date=formatted_date)"
   ]
  },
  {
   "cell_type": "code",
   "execution_count": 160,
   "metadata": {},
   "outputs": [],
   "source": [
    "prs.save(\"pladifes.pptx\")"
   ]
  },
  {
   "cell_type": "markdown",
   "metadata": {},
   "source": [
    "# Outline slide"
   ]
  },
  {
   "cell_type": "code",
   "execution_count": null,
   "metadata": {},
   "outputs": [],
   "source": []
  },
  {
   "cell_type": "markdown",
   "metadata": {},
   "source": [
    "## Content slide"
   ]
  },
  {
   "cell_type": "code",
   "execution_count": null,
   "metadata": {},
   "outputs": [],
   "source": [
    "# Get \"Contenu classique\" slide layout index\n",
    "cc_id = lay2idx[\"Contenu classique\"]\n",
    "# Create new slide\n",
    "slide = layouts[cc_id]\n",
    "# Mapping between slide shapes and indices\n",
    "shape2idx = {s.name: i for i, s in enumerate(slide.shapes)}"
   ]
  },
  {
   "cell_type": "code",
   "execution_count": null,
   "metadata": {},
   "outputs": [],
   "source": [
    "# index of title element\n",
    "title_id = shape2idx[\"Titre 1\"]\n",
    "\n",
    "# Define title\n",
    "title = \"Hello, World!\"\n",
    "# change title text\n",
    "add_title(title=title, slide=slide, title_id=title_id)\n",
    "prs.save(\"pladifes.pptx\")"
   ]
  },
  {
   "cell_type": "code",
   "execution_count": null,
   "metadata": {},
   "outputs": [],
   "source": [
    "print(dir(slide))"
   ]
  },
  {
   "cell_type": "code",
   "execution_count": null,
   "metadata": {},
   "outputs": [],
   "source": [
    "for s in slide.shapes:\n",
    "    print(s.name)"
   ]
  },
  {
   "cell_type": "code",
   "execution_count": null,
   "metadata": {},
   "outputs": [],
   "source": [
    "shape2idx"
   ]
  },
  {
   "cell_type": "code",
   "execution_count": null,
   "metadata": {},
   "outputs": [],
   "source": [
    "prs2 = Presentation()"
   ]
  },
  {
   "cell_type": "code",
   "execution_count": null,
   "metadata": {},
   "outputs": [],
   "source": [
    "slide = prs2.slide_layouts[1]\n",
    "prs2.slides.add_slide(slide)\n",
    "prs2.save(\"pladifes2.pptx\")"
   ]
  },
  {
   "cell_type": "code",
   "execution_count": null,
   "metadata": {},
   "outputs": [],
   "source": [
    "for s in slide.shapes:\n",
    "    print(s.name)"
   ]
  },
  {
   "cell_type": "code",
   "execution_count": null,
   "metadata": {},
   "outputs": [],
   "source": [
    "with open(\"slides.json\", 'r') as file:\n",
    "    data = json.load(file)"
   ]
  },
  {
   "cell_type": "code",
   "execution_count": null,
   "metadata": {},
   "outputs": [],
   "source": [
    "data"
   ]
  },
  {
   "cell_type": "code",
   "execution_count": null,
   "metadata": {},
   "outputs": [],
   "source": [
    "from pptx import Presentation\n",
    "from pptx.util import Inches, Pt\n",
    "from pptx.enum.text import PP_ALIGN\n",
    "\n",
    "def add_image_and_text_slide(prs, image_path, title, content):\n",
    "    # Choose a slide layout with content and picture placeholder\n",
    "    slide_layout = prs.slide_layouts[5]  # 5 corresponds to 'Title Slide with Picture Placeholder'\n",
    "\n",
    "    # Add the new slide to the presentation\n",
    "    slide = prs.slides.add_slide(slide_layout)\n",
    "\n",
    "    # Set title\n",
    "    title_shape = slide.shapes.title\n",
    "    title_shape.text = title\n",
    "\n",
    "    # Add image on the left side\n",
    "    left_inch = Inches(0.5)\n",
    "    top_inch = Inches(1.5)\n",
    "    pic = slide.shapes.add_picture(image_path, left_inch, top_inch, width=Inches(4))\n",
    "\n",
    "    # Add text on the right side\n",
    "    text_box = slide.shapes.add_textbox(Inches(5), top_inch, Inches(3), Inches(5))\n",
    "    text_frame = text_box.text_frame\n",
    "    p = text_frame.add_paragraph()\n",
    "    p.text = content\n",
    "    p.alignment = PP_ALIGN.LEFT\n",
    "    p.font.size = Pt(18)\n"
   ]
  },
  {
   "cell_type": "code",
   "execution_count": null,
   "metadata": {},
   "outputs": [],
   "source": []
  },
  {
   "cell_type": "code",
   "execution_count": null,
   "metadata": {},
   "outputs": [],
   "source": [
    "# Add a slide with image on the left and text on the right\n",
    "add_image_and_text_slide(prs, 'earth.jpg', 'Slide Title', 'Text content goes here.')\n",
    "# Save the presentation\n",
    "prs.save(\"slidego_pres.pptx\")"
   ]
  },
  {
   "cell_type": "code",
   "execution_count": null,
   "metadata": {},
   "outputs": [],
   "source": []
  }
 ],
 "metadata": {
  "kernelspec": {
   "display_name": "autoppt",
   "language": "python",
   "name": "python3"
  },
  "language_info": {
   "codemirror_mode": {
    "name": "ipython",
    "version": 3
   },
   "file_extension": ".py",
   "mimetype": "text/x-python",
   "name": "python",
   "nbconvert_exporter": "python",
   "pygments_lexer": "ipython3",
   "version": "3.10.14"
  }
 },
 "nbformat": 4,
 "nbformat_minor": 2
}
