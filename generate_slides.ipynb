{
 "cells": [
  {
   "cell_type": "code",
   "execution_count": 144,
   "metadata": {},
   "outputs": [],
   "source": [
    "import re\n",
    "from pptx import Presentation\n",
    "from pptx.util import Inches, Pt\n",
    "from pptx.dml.color import RGBColor\n",
    "from pptx.enum.text import PP_ALIGN\n",
    "from pptx.oxml import parse_xml\n",
    "from pptx.oxml.ns import nsdecls"
   ]
  },
  {
   "cell_type": "code",
   "execution_count": 145,
   "metadata": {},
   "outputs": [],
   "source": [
    "\n",
    "def parse_md_file(md_file):\n",
    "    \"\"\"Parses a markdown file and extracts slide titles and bullet points without labels.\"\"\"\n",
    "    slides = []\n",
    "    with open(md_file, \"r\", encoding=\"utf-8\") as file:\n",
    "        content = file.read()\n",
    "\n",
    "    # Split slides using Markdown headers (e.g., # Slide 1: Title)\n",
    "    slide_sections = re.split(r\"^# (.*?)$\", content, flags=re.MULTILINE)[1:]\n",
    "\n",
    "    for i in range(0, len(slide_sections), 2):\n",
    "        title = re.sub(r\"^(Title Slide:|Slide \\d+:|Conclusion Slide:|References Slide:|Appendix Slide:)\\s*\", \"\", slide_sections[i].strip(), flags=re.IGNORECASE)  # Remove labels\n",
    "        bullets = [line.strip(\"- \").strip() for line in slide_sections[i + 1].split(\"\\n\") if line.startswith(\"-\")]\n",
    "        slides.append((title, bullets))\n",
    "\n",
    "    return slides\n",
    "\n",
    "def set_text_format(text_frame, font_name=\"Arial\", font_size=24, color=(0, 0, 0), align=PP_ALIGN.LEFT):\n",
    "    \"\"\"Applies font formatting and alignment to a text frame.\"\"\"\n",
    "    for paragraph in text_frame.paragraphs:\n",
    "        paragraph.alignment = align  # Set text alignment (JUSTIFY used in content slides)\n",
    "        run = paragraph.runs[0] if paragraph.runs else paragraph.add_run()\n",
    "        run.font.name = font_name\n",
    "        run.font.size = Pt(font_size)\n",
    "        run.font.color.rgb = RGBColor(*color)  # Set font color\n",
    "\n",
    "def parse_hyperlinked_text(text):\n",
    "    \"\"\"Extracts (text, URL) pairs from Markdown-style [text](url) hyperlinks.\"\"\"\n",
    "    pattern = r\"\\[(.*?)\\]\\((.*?)\\)\"\n",
    "    return re.findall(pattern, text)\n",
    "\n",
    "def add_hyperlinked_text(paragraph, text, url):\n",
    "    \"\"\"Adds only the hyperlinked text to a paragraph in PowerPoint (without raw MD syntax).\"\"\"\n",
    "    paragraph.clear()  # Remove any default text\n",
    "    run = paragraph.add_run()\n",
    "    run.text = text  # Display only the text, not the URL\n",
    "    run.font.color.rgb = RGBColor(0, 0, 255)  # Blue color for hyperlink\n",
    "    run.font.size = Pt(20)\n",
    "    run.hyperlink.address = url  # Make it clickable"
   ]
  },
  {
   "cell_type": "code",
   "execution_count": 146,
   "metadata": {},
   "outputs": [],
   "source": [
    "slides = parse_md_file(md_file=\"slides.md\")"
   ]
  },
  {
   "cell_type": "code",
   "execution_count": 147,
   "metadata": {},
   "outputs": [
    {
     "data": {
      "text/plain": [
       "[('Biodiversity Presentation', []),\n",
       " ('Introduction to Biodiversity',\n",
       "  ['Biodiversity refers to the variety of life, including species, ecosystems, and genetic diversity.',\n",
       "   'It maintains ecological balance and supports essential ecosystem services.',\n",
       "   'Found in terrestrial, freshwater, and marine environments worldwide.']),\n",
       " ('Importance of Biodiversity',\n",
       "  ['Supports ecosystem stability and resilience to environmental changes.',\n",
       "   'Provides essential resources like food, medicine, and raw materials.',\n",
       "   'Contributes to climate regulation, water purification, and soil fertility.']),\n",
       " ('Threats to Biodiversity',\n",
       "  ['Habitat destruction from deforestation, urbanization, and agriculture.',\n",
       "   'Climate change causing species extinction and ecosystem shifts.',\n",
       "   'Pollution harming air, water, and soil quality, affecting biodiversity.']),\n",
       " ('Conclusion',\n",
       "  ['Biodiversity is essential for ecosystem stability and human well-being.',\n",
       "   'Conservation efforts are crucial to protect species and habitats.',\n",
       "   'Sustainable practices can help preserve biodiversity for future generations.']),\n",
       " ('References',\n",
       "  ['[Convention on Biological Diversity (2023). *What is Biodiversity?*](https://www.cbd.int/)',\n",
       "   '[National Geographic (2022). *Biodiversity and Conservation.*](https://www.nationalgeographic.org/)',\n",
       "   '[IPBES (2021). *Global Assessment Report on Biodiversity and Ecosystem Services.*](https://www.ipbes.net/)']),\n",
       " ('Appendix 0', []),\n",
       " ('Appendix 1', []),\n",
       " ('Appendix 2', [])]"
      ]
     },
     "execution_count": 147,
     "metadata": {},
     "output_type": "execute_result"
    }
   ],
   "source": [
    "slides"
   ]
  },
  {
   "cell_type": "code",
   "execution_count": 148,
   "metadata": {},
   "outputs": [
    {
     "data": {
      "text/plain": [
       "datetime.date(2025, 2, 24)"
      ]
     },
     "execution_count": 148,
     "metadata": {},
     "output_type": "execute_result"
    }
   ],
   "source": [
    "from datetime import date\n",
    "date.today()"
   ]
  },
  {
   "cell_type": "code",
   "execution_count": 149,
   "metadata": {},
   "outputs": [],
   "source": [
    "from pptx import Presentation\n",
    "from pptx.util import Inches, Pt\n",
    "from pptx.dml.color import RGBColor\n",
    "from pptx.enum.text import PP_ALIGN\n",
    "from datetime import date\n",
    "\n",
    "\n",
    "def create_ppt_from_md(md_file, output_pptx):\n",
    "    \"\"\"Creates a PowerPoint file from a markdown file with justified bullet points and a distinct title slide.\"\"\"\n",
    "    slides_content = parse_md_file(md_file)\n",
    "    prs = Presentation()\n",
    "\n",
    "    slide_titles = []  # Store content slide titles for the outline\n",
    "    appendix_titles = []\n",
    "    \n",
    "    for i, (title, bullet_points) in enumerate(slides_content):\n",
    "        if i == 0 and not bullet_points:\n",
    "            # Title Slide\n",
    "            slide = prs.slides.add_slide(prs.slide_layouts[0])\n",
    "            title_placeholder = slide.shapes.title\n",
    "            subtitle_placeholder = slide.placeholders[1]\n",
    "\n",
    "            title_placeholder.text = title\n",
    "            subtitle_placeholder.text = \"\"\n",
    "\n",
    "            # Add date at the bottom-right corner\n",
    "            left, top = Inches(8.5), Inches(6.9)\n",
    "            date_textbox = slide.shapes.add_textbox(left, top, Inches(1), Inches(0.5))\n",
    "            date_text_frame = date_textbox.text_frame\n",
    "            date_text_frame.text = date.today().strftime(\"%d-%m-%Y\")\n",
    "\n",
    "            # Apply font formatting\n",
    "            set_text_format(title_placeholder.text_frame, font_name=\"Calibri\", font_size=44, color=(0, 0, 128))\n",
    "            set_text_format(subtitle_placeholder.text_frame, font_name=\"Calibri\", font_size=24, color=(80, 80, 80))\n",
    "\n",
    "        else:\n",
    "            # Check if slide is an appendix slide\n",
    "            if title.lower().startswith(\"appendix\"):\n",
    "                appendix_titles.append(title)\n",
    "            else:\n",
    "                slide_titles.append(title)\n",
    "            # Content Slides\n",
    "            slide = prs.slides.add_slide(prs.slide_layouts[1])\n",
    "            title_placeholder = slide.shapes.title\n",
    "            content_placeholder = slide.placeholders[1]\n",
    "\n",
    "            title_placeholder.text = title\n",
    "            content_placeholder.text = \"\"  # Clear placeholder text\n",
    "\n",
    "            # Add bullet points with justified alignment\n",
    "            for point in bullet_points:\n",
    "                paragraph = content_placeholder.text_frame.add_paragraph()\n",
    "                paragraph.text = f\"{point}\"\n",
    "                paragraph.alignment = PP_ALIGN.JUSTIFY  # Justify text\n",
    "                paragraph.space_after = Pt(8)\n",
    "                \n",
    "                hyperlinks = parse_hyperlinked_text(point)\n",
    "                if hyperlinks:\n",
    "                    for text, url in hyperlinks:\n",
    "                        add_hyperlinked_text(paragraph, text, url)  # Add clickable hyperlink\n",
    "                else:\n",
    "                    paragraph.text = point  # Regular text\n",
    "\n",
    "                # Apply font formatting\n",
    "                run = paragraph.runs[0]\n",
    "                run.font.name = \"Arial\"\n",
    "                run.font.size = Pt(20)\n",
    "                run.font.color.rgb = RGBColor(50, 50, 50)  # Dark Gray\n",
    "\n",
    "            # Apply formatting to title\n",
    "            set_text_format(title_placeholder.text_frame, font_name=\"Arial\", font_size=32, color=(0, 0, 0))\n",
    "\n",
    "            # Add slide number (bottom-right corner)\n",
    "            left, top = Inches(8.5), Inches(6.9)\n",
    "            slide_number = slide.shapes.add_textbox(left, top, Inches(1), Inches(0.5))\n",
    "            slide_number.text_frame.text = f\"{i}/{len(slides_content) - 1}\"\n",
    "            set_text_format(slide_number.text_frame, font_name=\"Arial\", font_size=14, color=(100, 100, 100), align=PP_ALIGN.RIGHT)\n",
    "    \n",
    "    # Create an Outline Slide after the Title Slide\n",
    "    outline_slide = prs.slides.add_slide(prs.slide_layouts[1])  # Title & Content Layout\n",
    "    outline_slide.shapes.title.text = \"Outline\"\n",
    "    outline_text_frame = outline_slide.placeholders[1].text_frame\n",
    "    outline_text_frame.clear()\n",
    "\n",
    "    for slide_title in slide_titles:\n",
    "        paragraph = outline_text_frame.add_paragraph()\n",
    "        paragraph.text = slide_title  # Add slide title as bullet point\n",
    "        paragraph.font.size = Pt(20)\n",
    "        paragraph.font.color.rgb = RGBColor(0, 0, 0)  # Black\n",
    "    \n",
    "    if appendix_titles:\n",
    "        paragraph = outline_text_frame.add_paragraph()\n",
    "        paragraph.text = \"Appendices\"  # Add slide title as bullet point\n",
    "        paragraph.font.size = Pt(20)\n",
    "        paragraph.font.color.rgb = RGBColor(0, 0, 0)  # Black\n",
    "    \n",
    "    # Move Outline Slide to position 2 (after the Title Slide)\n",
    "    xml_slides = prs.slides._sldIdLst  # Access slide list\n",
    "    xml_slides.insert(1, xml_slides[-1])  # Move last slide to index 1 (second position)\n",
    "    \n",
    "    prs.save(output_pptx)\n",
    "    print(f\"PowerPoint file '{output_pptx}' has been created successfully with justified bullet points!\")\n"
   ]
  },
  {
   "cell_type": "code",
   "execution_count": 150,
   "metadata": {},
   "outputs": [
    {
     "name": "stdout",
     "output_type": "stream",
     "text": [
      "PowerPoint file 'biodiversity.pptx' has been created successfully with justified bullet points!\n"
     ]
    }
   ],
   "source": [
    "\n",
    "# Example usage\n",
    "md_filename = \"slides.md\"  # Your Markdown file\n",
    "pptx_filename = \"biodiversity.pptx\"  # Output PowerPoint file\n",
    "\n",
    "create_ppt_from_md(md_filename, pptx_filename)\n"
   ]
  },
  {
   "cell_type": "code",
   "execution_count": null,
   "metadata": {},
   "outputs": [],
   "source": []
  }
 ],
 "metadata": {
  "kernelspec": {
   "display_name": "default",
   "language": "python",
   "name": "python3"
  },
  "language_info": {
   "codemirror_mode": {
    "name": "ipython",
    "version": 3
   },
   "file_extension": ".py",
   "mimetype": "text/x-python",
   "name": "python",
   "nbconvert_exporter": "python",
   "pygments_lexer": "ipython3",
   "version": "3.13.2"
  }
 },
 "nbformat": 4,
 "nbformat_minor": 2
}
